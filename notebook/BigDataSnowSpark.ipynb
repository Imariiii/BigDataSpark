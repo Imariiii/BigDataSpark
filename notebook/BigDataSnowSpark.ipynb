{
 "cells": [
  {
   "cell_type": "markdown",
   "id": "81ccdc8d",
   "metadata": {},
   "source": [
    "# BigDataSpark"
   ]
  },
  {
   "cell_type": "code",
   "execution_count": 1,
   "id": "893cca2d",
   "metadata": {},
   "outputs": [],
   "source": [
    "from pyspark.sql import SparkSession\n",
    "\n",
    "spark = SparkSession.builder \\\n",
    "    .appName(\"BigDataSnowSpark\") \\\n",
    "    .config(\"spark.jars\", \n",
    "            \"/opt/spark/jars/postgresql-42.7.6.jar,\"\n",
    "            \"/opt/spark/jars/clickhouse-jdbc-0.8.5-all.jar\") \\\n",
    "    .getOrCreate()"
   ]
  },
  {
   "cell_type": "markdown",
   "id": "2cbd617a",
   "metadata": {},
   "source": [
    "## Создание снежинки"
   ]
  },
  {
   "cell_type": "code",
   "execution_count": 2,
   "id": "faced7f1",
   "metadata": {},
   "outputs": [],
   "source": [
    "postgres_jdbc_url = \"jdbc:postgresql://postgres:5432/mydatabase\"\n",
    "postgres_connection_properties = {\n",
    "    \"user\": \"myuser\",\n",
    "    \"password\": \"mypassword\",\n",
    "    \"driver\": \"org.postgresql.Driver\"\n",
    "}"
   ]
  },
  {
   "cell_type": "code",
   "execution_count": 3,
   "id": "d19c5690",
   "metadata": {},
   "outputs": [
    {
     "name": "stdout",
     "output_type": "stream",
     "text": [
      "+---+-------------------+------------------+------------+--------------------+------------------+--------------------+-----------------+-----------------+------------------+-----------------+----------------+--------------------+--------------+------------------+------------+----------------+--------------------+----------------+----------+----------------+--------------+---------------+-------------+--------------------+-----------+--------------+-------------+-----------+--------------------+------------+--------------------+------------+--------------------+-------------+------------+-------------+----------------+--------------------+--------------------+---------------+--------------------+-------------------+-------------+-----------------+--------------------+--------------+----------------+------------------+----------------+\n",
      "| id|customer_first_name|customer_last_name|customer_age|      customer_email|  customer_country|customer_postal_code|customer_pet_type|customer_pet_name|customer_pet_breed|seller_first_name|seller_last_name|        seller_email|seller_country|seller_postal_code|product_name|product_category|       product_price|product_quantity| sale_date|sale_customer_id|sale_seller_id|sale_product_id|sale_quantity|    sale_total_price| store_name|store_location|   store_city|store_state|       store_country| store_phone|         store_email|pet_category|      product_weight|product_color|product_size|product_brand|product_material| product_description|      product_rating|product_reviews|product_release_date|product_expiry_date|supplier_name| supplier_contact|      supplier_email|supplier_phone|supplier_address|     supplier_city|supplier_country|\n",
      "+---+-------------------+------------------+------------+--------------------+------------------+--------------------+-----------------+-----------------+------------------+-----------------+----------------+--------------------+--------------+------------------+------------+----------------+--------------------+----------------+----------+----------------+--------------+---------------+-------------+--------------------+-----------+--------------+-------------+-----------+--------------------+------------+--------------------+------------+--------------------+-------------+------------+-------------+----------------+--------------------+--------------------+---------------+--------------------+-------------------+-------------+-----------------+--------------------+--------------+----------------+------------------+----------------+\n",
      "|  1|             Barron|           Rawlyns|          61|bmassingham0@army...|             China|                NULL|              cat|        Priscella|Labrador Retriever|            Bevan|      Massingham|bmassingham0@answ...|     Indonesia|              NULL|    Dog Food|            Food|77.97000000000000...|              89|2021-05-14|               1|             1|              1|            4|487.7000000000000...|    Youopia|      Suite 75|      Xichehe|       NULL|       United States|564-244-8660|bmassingham0@netw...|        Cats|13.40000000000000...|       Indigo|      Medium|        Skajo|           Steel|Aliquam quis turp...|2.100000000000000000|             97|          2011-10-19|         2028-10-21|       Tagcat| Bevan Massingham|bmassingham0@unbl...|  914-877-7062|        Suite 25|            Kletek|           China|\n",
      "|  2|                Ham|          Knowller|          78|  cscudder1@time.com|            Poland|              73-115|             bird|          Dalenna|Labrador Retriever|          Candide|         Scudder|  cscudder1@xing.com|     Guatemala|             04015|     Cat Toy|            Food|48.70000000000000...|              73|2021-11-13|               2|             2|              2|           10|484.6100000000000...|   Fivespan|       Suite 1|       Dolice|       NULL|           Lithuania|596-788-0321|cscudder1@behance...|        Cats|36.30000000000000...|        Khaki|       Small|    Wordpedia|      Plexiglass|Phasellus in feli...|2.400000000000000000|             37|          2019-04-17|         2028-02-29|     Livetube|  Candide Scudder|cscudder1@sbwire.com|  863-319-5653|      18th Floor|Santa Cruz Balanyá|          Poland|\n",
      "|  3|           Farleigh|           Langley|          71|  vhuxter2@fotki.com|            Poland|              56-160|             bird|         Aldridge|          Parakeet|           Vinson|          Huxter|  vhuxter2@issuu.com|         China|              NULL|   Bird Cage|            Food|77.75000000000000...|              39|2021-12-04|               3|             3|              3|            9|144.2400000000000...|     Avamba|      Suite 69|       Wińsko|       NULL|        South Africa|148-671-4697|vhuxter2@marketwa...|        Fish|14.60000000000000...|        Khaki|      Medium|    Riffpedia|      Plexiglass|Maecenas leo odio...|3.000000000000000000|            218|          2010-02-03|         2023-09-03|     Photobug|    Vinson Huxter|  vhuxter2@slate.com|  434-817-1275|          Apt 96|           Huangpu|           Samoa|\n",
      "|  4|               Shae|           Debling|          28|bbullier3@bravesi...|         Sri Lanka|               81700|              cat|          Beverie|Labrador Retriever|             Bald|         Bullier|bbullier3@imagesh...|         China|              NULL|    Dog Food|            Food|54.18000000000000...|              68|2021-08-10|               4|             4|              4|            4|441.0900000000000...|   Feedfish|      Suite 77|     Weligama|       NULL|                Cuba|190-352-7524|bbullier3@infosee...|        Fish|15.70000000000000...|       Indigo|      Medium|    Flipstorm|         Granite|Nullam sit amet t...|2.200000000000000000|            959|          2019-08-22|         2026-03-29|        Janyx|     Bald Bullier|   bbullier3@dot.gov|  515-756-7392|      12th Floor|        Chengzhong|       Indonesia|\n",
      "|  5|                Lay|             Twatt|          25| sedgar4@smugmug.com|          Botswana|                NULL|             bird|          Sydelle|           Siamese|          Sydelle|           Edgar|   sedgar4@sogou.com|         China|              NULL|   Bird Cage|            Cage|72.96000000000000...|              23|2021-02-04|               5|             5|              5|            6|72.27000000000000...|     Skimia|       Apt 112|    Mahalapye|       NULL|         Philippines|364-385-6169|sedgar4@e-recht24.de|    Reptiles|38.90000000000000...|       Maroon|       Large|        Zazio|        Aluminum|Quisque id justo ...|4.500000000000000000|            130|          2018-12-09|         2030-05-10|         Lazz|    Sydelle Edgar|sedgar4@reverbnat...|  861-980-8811|        Suite 79|             Lanxi|           China|\n",
      "|  6|            Frankie|           Waycott|          58|  dgrindell5@usa.gov|            Russia|              666733|              dog|           Harald|          Parakeet|            Doria|        Grindell|dgrindell5@slides...| United States|             63136|   Bird Cage|            Food|32.07000000000000...|               1|2021-12-16|               6|             6|              6|            3|284.6600000000000...|    Meembee|       Apt 170|  Cherëmushki|       NULL|              Brazil|228-304-9481|dgrindell5@stanfo...|        Cats|34.70000000000000...|         Mauv|       Small|        Quatz|      Plexiglass|Nullam sit amet t...|4.100000000000000000|            924|          2017-12-24|         2030-07-11|         Izio|   Doria Grindell| dgrindell5@1688.com|  314-270-0484|       3rd Floor|       Saint Louis|          Russia|\n",
      "|  7|              Boote|            Ricart|          69|      kelies6@si.edu|Dominican Republic|               11902|              dog|         Angeline|           Siamese|            Kenny|           Elies|     kelies6@nba.com|     Indonesia|              NULL|     Cat Toy|            Cage|78.21000000000000...|              56|2021-07-26|               7|             7|              7|            1|444.8400000000000...|   Riffpath|    15th Floor|         Moca|       NULL|Bosnia and Herzeg...|409-768-5793| kelies6@twitpic.com|       Birds|36.90000000000000...|    Goldenrod|       Small|     Jaxworks|          Rubber|Vestibulum ac est...|2.200000000000000000|            216|          2013-08-12|         2028-03-18|     Fanoodle|      Kenny Elies|  kelies6@hao123.com|  627-887-5660|    PO Box 84390|       Somorpenang|          Mexico|\n",
      "|  8|               Mace|           Parkman|          22|tungaretti7@censu...|            Mexico|               58095|              cat|          Rosalia|           Siamese|           Tabina|       Ungaretti|tungaretti7@sphin...|    Tajikistan|              NULL|   Bird Cage|            Cage|67.65000000000000...|              32|2021-03-06|               8|             8|              8|            2|127.9700000000000...|    Yakidoo|    PO Box 846| Buenos Aires|        MIC|              Sweden|890-747-2590|tungaretti7@typep...|        Dogs|25.20000000000000...|         Blue|       Large|        Aibox|         Plastic|Quisque porta vol...|4.500000000000000000|            629|          2015-07-23|         2028-05-31|  Thoughtblab| Tabina Ungaretti|tungaretti7@share...|  325-667-3782|        Room 922|         Panjakent|          Russia|\n",
      "|  9|             Hobard|          Rawnsley|          74|   mglason8@jugem.jp|             China|                NULL|             bird|       Anna-diane|           Siamese|              May|          Glason| mglason8@dion.ne.jp|        Russia|            694230|    Dog Food|             Toy|48.41000000000000...|              99|2021-06-10|               9|             9|              9|            4|207.1200000000000...|   Blogspan|     3rd Floor|       Xiushi|       NULL|              France|511-490-3261|mglason8@liveinte...|        Cats|37.30000000000000...|    Turquoise|       Small|      Dabtype|           Stone|Praesent id massa...|2.700000000000000000|             18|          2018-07-09|         2025-04-30|      Dabvine|       May Glason|mglason8@so-net.n...|  459-716-0328|       3rd Floor|         Leonidovo|     Philippines|\n",
      "| 10|              Jorry|         Cattenach|          46|jpelerin9@cbsnews...|            Poland|              34-146|              cat|             Peri|Labrador Retriever|            Jorry|         Pelerin|    jpelerin9@nhs.uk|     Indonesia|              NULL|    Dog Food|             Toy|7.390000000000000000|              86|2021-01-21|              10|            10|             10|            7|220.7200000000000...|    Skilith|   PO Box 6826|     Stryszów|       NULL|               Italy|307-889-7819|jpelerin9@howstuf...|        Dogs|36.90000000000000...|         Blue|       Small|       Skimia|         Granite|Fusce consequat. ...|4.200000000000000000|            277|          2014-03-06|         2023-05-30|     Linktype|    Jorry Pelerin|jpelerin9@theguar...|  540-290-6958|        Suite 34|          Sukadami|       Indonesia|\n",
      "| 11|              Starr|           Wapples|          50|ecorgenvina@netwo...|            France|      69281 CEDEX 01|              cat|          Sauveur|Labrador Retriever|           Edwina|       Corgenvin|ecorgenvina@blogg...|        Russia|            249028|    Dog Food|            Cage|15.99000000000000...|              22|2021-10-29|              11|            11|             11|            4|116.9000000000000...|      LiveZ|      Suite 32|         Lyon|         B9|               China|608-528-7938|ecorgenvina@creat...|        Cats|44.80000000000000...|       Orange|       Large|       Roombo|      Plexiglass|Cras non velit ne...|4.800000000000000000|            975|          2013-02-09|         2028-05-26|     Livepath| Edwina Corgenvin|ecorgenvina@furl.net|  670-482-8563|        Suite 92|            Setun’|         Ukraine|\n",
      "|202|              Stace|           Whawell|          59|    fgrand5l@sun.com|         Indonesia|                NULL|              cat|          Gaylord|           Siamese|           Fredia|           Grand|fgrand5l@facebook...|      Portugal|          3700-674|    Dog Food|            Food|21.73000000000000...|               3|2021-10-29|             202|           202|            202|            4|295.1100000000000...|Shufflester|      Apt 1958|       Panite|       NULL|           Indonesia|611-438-0237| fgrand5l@tripod.com|        Dogs|0.600000000000000000|         Puce|       Large|       Camido|          Rubber|Duis bibendum. Mo...|4.000000000000000000|            931|          2012-12-09|         2025-05-07|     Devpulse|     Fredia Grand|fgrand5l@nydailyn...|  667-800-3138|    PO Box 97892|            Moutas|       Indonesia|\n",
      "| 12|            Marlena|           Huthart|          34|btolletb@blogline...|             Japan|            839-1301|             bird|           Dillon|           Siamese|            Birch|          Tollet|   btolletb@ehow.com|      Colombia|            685518|   Bird Cage|            Food|83.51000000000000...|              29|2021-07-12|              12|            12|             12|            3|53.51000000000000...|     Avamba|       Apt 633|      Sakurai|       NULL|           Venezuela|302-743-6989| btolletb@dion.ne.jp|        Cats|25.60000000000000...|       Indigo|      Medium|        Miboo|           Steel|Proin eu mi. Null...|1.900000000000000000|            277|          2015-06-03|         2023-01-23|       Tagpad|     Birch Tollet|  btolletb@unblog.fr|  891-439-6430|        Suite 92|            La Paz|            Peru|\n",
      "| 13|              Eleni|           Arundel|          41|   lkolinc@adobe.com|            Canada|                 P3Y|              dog|             Lola|          Parakeet|            Laure|           Kolin|lkolinc@mashable.com|      Colombia|            525069|    Dog Food|            Food|66.10000000000000...|              50|2021-02-04|              13|            13|             13|           10|44.87000000000000...|      Aivee|    14th Floor|  South River|         ON|               China|920-763-7916| lkolinc@storify.com|        Fish|47.10000000000000...|       Violet|       Large|       Avamba|           Stone|In sagittis dui v...|1.400000000000000000|            154|          2022-12-13|         2023-08-09|  Twitterlist|      Laure Kolin|lkolinc@japanpost.jp|  511-806-8348|         Apt 282|        Piedrancha|          Canada|\n",
      "| 14|           Vivianne|            Curwen|          67|ddunkersleyd@cybe...|          Tanzania|                NULL|             bird|             Zerk|Labrador Retriever|           Daphne|      Dunkersley|ddunkersleyd@joom...|         China|              NULL|   Bird Cage|            Food|46.44000000000000...|              32|2021-05-05|              14|            14|             14|            2|344.5700000000000...|      Abatz|       Apt 234|       Igunga|       NULL|            Portugal|563-781-4893|ddunkersleyd@shop...|        Dogs|24.40000000000000...|       Orange|      Medium|        Miboo|           Glass|Vestibulum ac est...|2.400000000000000000|            775|          2011-09-23|         2025-02-17|        Quatz|Daphne Dunkersley|ddunkersleyd@phot...|  533-667-4421|       Room 1779|           Shuishi|     Philippines|\n",
      "| 15|           Darrelle|         Crawforth|          25|mlanneye@histats.com|            Sweden|              448 92|              cat|           Hillie|           Siamese|          Marcile|          Lanney|mlanneye@guardian...|      Slovenia|              8281|     Cat Toy|             Toy|50.38000000000000...|              50|2021-04-24|              15|            15|             15|            4|267.6700000000000...|       Vipe|    16th Floor|        Floda|          O|           Indonesia|116-349-4379|mlanneye@imagesha...|       Birds|32.00000000000000...|          Red|      Medium|   Babbleblab|           Glass|Duis consequat du...|3.000000000000000000|            388|          2019-10-08|         2029-07-14|      Demimbu|   Marcile Lanney|mlanneye@paginegi...|  576-589-0332|        Suite 53|            Senovo|          Sweden|\n",
      "| 16|              Reeva|             Seden|          65|   lbristoef@psu.edu|            Sweden|              144 62|              cat|          Alvinia|          Parakeet|          Lucinda|         Bristoe|   lbristoef@ucoz.ru|   Afghanistan|              NULL|    Dog Food|            Food|45.19000000000000...|              12|2021-05-10|              16|            16|             16|            1|341.5500000000000...| Linkbridge|     Room 1542|     Rönninge|         AB|               China|305-113-8067|    lbristoef@nhs.uk|        Cats|49.80000000000000...|       Indigo|       Small|    Photofeed|        Aluminum|Nullam sit amet t...|4.400000000000000000|             22|          2011-10-14|         2023-05-12|       Devbug|  Lucinda Bristoe| lbristoef@exblog.jp|  868-648-5000|       1st Floor|         Ashkāsham|           Egypt|\n",
      "| 17|            Urbanus|            Fannin|          48|    rgrissg@live.com|            Mexico|               61609|              cat|       Cassaundra|          Parakeet|            Ronni|           Griss|  rgrissg@census.gov|      Thailand|             13220|   Bird Cage|            Food|77.58000000000000...|              85|2021-08-20|              17|            17|             17|            6|451.8700000000000...|      Oyoba|    16th Floor|      Morelos|        MIC|             Uruguay|126-754-9912|   rgrissg@webmd.com|        Cats|25.90000000000000...|       Violet|       Small|     Devpoint|           Vinyl|Praesent id massa...|5.000000000000000000|            882|          2015-03-24|         2030-08-08|         Yata|      Ronni Griss|     rgrissg@fda.gov|  661-382-9801|      17th Floor|        Bang Pahan|          Brazil|\n",
      "| 18|            Barnaby|            Blanko|          36|chellewellh@smugm...|            Russia|              143422|              cat|           Hillel|Labrador Retriever|           Cirilo|       Hellewell|chellewellh@dropb...|       Albania|              NULL|   Bird Cage|            Cage|35.64000000000000...|              19|2021-03-24|              18|            18|             18|            3|261.1600000000000...| Photospace|  PO Box 71848|Gorki Vtoryye|       NULL|              Russia|244-466-8451|chellewellh@nymag...|        Cats|22.50000000000000...|          Red|       Small|       BlogXS|        Aluminum|Cras mi pede, mal...|1.100000000000000000|            930|          2013-09-12|         2024-09-14|        Oyoyo| Cirilo Hellewell|chellewellh@googl...|  484-944-2476|       7th Floor|             Manzë|        Portugal|\n",
      "| 19|           Tabbatha|        Aizikovitz|          55|bhalburtoni@wooth...|            Poland|              74-101|              cat|           Dagmar|          Parakeet|             Bell|       Halburton|bhalburtoni@nifty...|         Syria|              NULL|    Dog Food|            Cage|40.47000000000000...|              10|2021-02-25|              19|            19|             19|            7|348.2900000000000...|      Abata|      Suite 12|      Gryfino|       NULL|              Poland|910-369-5146|bhalburtoni@phoca.cz|    Reptiles|37.40000000000000...|         Teal|      Medium|      Gigabox|         Granite|Morbi porttitor l...|4.200000000000000000|             11|          2011-05-20|         2029-06-02|     Fivespan|   Bell Halburton|bhalburtoni@latim...|  105-726-0281|        Suite 11|            ‘Irbīn|         Germany|\n",
      "+---+-------------------+------------------+------------+--------------------+------------------+--------------------+-----------------+-----------------+------------------+-----------------+----------------+--------------------+--------------+------------------+------------+----------------+--------------------+----------------+----------+----------------+--------------+---------------+-------------+--------------------+-----------+--------------+-------------+-----------+--------------------+------------+--------------------+------------+--------------------+-------------+------------+-------------+----------------+--------------------+--------------------+---------------+--------------------+-------------------+-------------+-----------------+--------------------+--------------+----------------+------------------+----------------+\n",
      "only showing top 20 rows\n",
      "\n"
     ]
    },
    {
     "data": {
      "text/plain": [
       "10000"
      ]
     },
     "execution_count": 3,
     "metadata": {},
     "output_type": "execute_result"
    }
   ],
   "source": [
    "mock_data = spark.read.jdbc(url=postgres_jdbc_url, table=\"mock_data\", properties=postgres_connection_properties)\n",
    "\n",
    "mock_data.show()\n",
    "mock_data.count()"
   ]
  },
  {
   "cell_type": "code",
   "execution_count": 4,
   "id": "f1e9fcfb",
   "metadata": {},
   "outputs": [],
   "source": [
    "def execute_query(query):\n",
    "    spark.sparkContext._jvm.java.sql.DriverManager.getConnection(\n",
    "        postgres_jdbc_url, \n",
    "        postgres_connection_properties[\"user\"], \n",
    "        postgres_connection_properties[\"password\"]\n",
    "    ).createStatement().execute(query)"
   ]
  },
  {
   "cell_type": "code",
   "execution_count": 5,
   "id": "0e786f1f",
   "metadata": {},
   "outputs": [],
   "source": [
    "from pyspark.sql import functions as F"
   ]
  },
  {
   "cell_type": "markdown",
   "id": "f1c303a2",
   "metadata": {},
   "source": [
    "Таблица countries"
   ]
  },
  {
   "cell_type": "code",
   "execution_count": 6,
   "id": "b02cd9f8-119d-4f0d-a5ab-ad5281ba9aa4",
   "metadata": {},
   "outputs": [
    {
     "name": "stdout",
     "output_type": "stream",
     "text": [
      "+----------+------------+\n",
      "|country_id|country_name|\n",
      "+----------+------------+\n",
      "|         1|        Chad|\n",
      "|         2|      Russia|\n",
      "|         3|    Paraguay|\n",
      "+----------+------------+\n",
      "only showing top 3 rows\n",
      "\n"
     ]
    },
    {
     "data": {
      "text/plain": [
       "230"
      ]
     },
     "execution_count": 6,
     "metadata": {},
     "output_type": "execute_result"
    }
   ],
   "source": [
    "execute_query(\"CREATE TABLE IF NOT EXISTS countries (country_id SERIAL PRIMARY KEY, country_name VARCHAR UNIQUE);\")  \n",
    "\n",
    "countries = mock_data.select(\n",
    "    F.col(\"customer_country\").alias(\"country_name\")\n",
    ").filter(F.col(\"customer_country\").isNotNull()).distinct() \\\n",
    ".union(mock_data.select(F.col(\"seller_country\").alias(\"country_name\")).filter(F.col(\"seller_country\").isNotNull()).distinct()) \\\n",
    ".union(mock_data.select(F.col(\"store_country\").alias(\"country_name\")).filter(F.col(\"store_country\").isNotNull()).distinct()) \\\n",
    ".union(mock_data.select(F.col(\"supplier_country\").alias(\"country_name\")).filter(F.col(\"supplier_country\").isNotNull()).distinct()) \\\n",
    ".distinct()\n",
    "\n",
    "countries.write \\\n",
    "    .format(\"jdbc\") \\\n",
    "    .option(\"url\", postgres_jdbc_url) \\\n",
    "    .option(\"dbtable\", \"countries\") \\\n",
    "    .option(\"user\", postgres_connection_properties[\"user\"]) \\\n",
    "    .option(\"password\", postgres_connection_properties[\"password\"]) \\\n",
    "    .option(\"driver\", \"org.postgresql.Driver\") \\\n",
    "    .mode(\"append\") \\\n",
    "    .save()\n",
    "\n",
    "countries_with_id = spark.read.jdbc(url=postgres_jdbc_url, table=\"countries\", properties=postgres_connection_properties)\n",
    "\n",
    "countries_with_id.show(3)\n",
    "countries_with_id.count()"
   ]
  },
  {
   "cell_type": "markdown",
   "id": "d7155ce8",
   "metadata": {},
   "source": [
    "Таблица cities"
   ]
  },
  {
   "cell_type": "code",
   "execution_count": 7,
   "id": "8e196006",
   "metadata": {},
   "outputs": [
    {
     "name": "stdout",
     "output_type": "stream",
     "text": [
      "+-------+-----------+\n",
      "|city_id|  city_name|\n",
      "+-------+-----------+\n",
      "|      1|     Takefu|\n",
      "|      2|Trollhättan|\n",
      "|      3|   Żyrardów|\n",
      "+-------+-----------+\n",
      "only showing top 3 rows\n",
      "\n"
     ]
    },
    {
     "data": {
      "text/plain": [
       "14181"
      ]
     },
     "execution_count": 7,
     "metadata": {},
     "output_type": "execute_result"
    }
   ],
   "source": [
    "execute_query(\"CREATE TABLE IF NOT EXISTS cities (city_id SERIAL PRIMARY KEY, city_name VARCHAR UNIQUE);\")\n",
    "\n",
    "cities = mock_data.select(\n",
    "    F.col(\"store_city\").alias(\"city_name\")\n",
    ").filter(F.col(\"store_city\").isNotNull()).distinct() \\\n",
    ".union(mock_data.select(F.col(\"supplier_city\").alias(\"city_name\")).filter(F.col(\"supplier_city\").isNotNull()).distinct()) \\\n",
    ".distinct()\n",
    "\n",
    "cities.write \\\n",
    "    .format(\"jdbc\") \\\n",
    "    .option(\"url\", postgres_jdbc_url) \\\n",
    "    .option(\"dbtable\", \"cities\") \\\n",
    "    .option(\"user\", postgres_connection_properties[\"user\"]) \\\n",
    "    .option(\"password\", postgres_connection_properties[\"password\"]) \\\n",
    "    .option(\"driver\", \"org.postgresql.Driver\") \\\n",
    "    .mode(\"append\") \\\n",
    "    .save()\n",
    "\n",
    "cities_with_id = spark.read.jdbc(url=postgres_jdbc_url, table=\"cities\", properties=postgres_connection_properties)\n",
    "cities_with_id.show(3)\n",
    "cities_with_id.count()"
   ]
  },
  {
   "cell_type": "markdown",
   "id": "fc43c83a",
   "metadata": {},
   "source": [
    "Таблица dates"
   ]
  },
  {
   "cell_type": "code",
   "execution_count": 8,
   "id": "56e6a4db",
   "metadata": {},
   "outputs": [
    {
     "name": "stdout",
     "output_type": "stream",
     "text": [
      "+-------+----------+\n",
      "|date_id|date_value|\n",
      "+-------+----------+\n",
      "|      1|2021-11-13|\n",
      "|      2|2021-12-18|\n",
      "|      3|2021-08-27|\n",
      "+-------+----------+\n",
      "only showing top 3 rows\n",
      "\n"
     ]
    },
    {
     "data": {
      "text/plain": [
       "7033"
      ]
     },
     "execution_count": 8,
     "metadata": {},
     "output_type": "execute_result"
    }
   ],
   "source": [
    "execute_query(\"CREATE TABLE IF NOT EXISTS dates (date_id SERIAL PRIMARY KEY, date_value DATE UNIQUE);\")\n",
    "\n",
    "dates = mock_data.select(\n",
    "    F.col(\"sale_date\").alias(\"date_value\")\n",
    ").filter(F.col(\"sale_date\").isNotNull()).distinct() \\\n",
    ".union(mock_data.select(F.col(\"product_release_date\").alias(\"date_value\")).distinct()) \\\n",
    ".union(mock_data.select(F.col(\"product_expiry_date\").alias(\"date_value\")).distinct()) \\\n",
    ".distinct()\n",
    "\n",
    "dates.write \\\n",
    "    .format(\"jdbc\") \\\n",
    "    .option(\"url\", postgres_jdbc_url) \\\n",
    "    .option(\"dbtable\", \"dates\") \\\n",
    "    .option(\"user\", postgres_connection_properties[\"user\"]) \\\n",
    "    .option(\"password\", postgres_connection_properties[\"password\"]) \\\n",
    "    .option(\"driver\", \"org.postgresql.Driver\") \\\n",
    "    .mode(\"append\") \\\n",
    "    .save()\n",
    "\n",
    "dates_with_id = spark.read.jdbc(url=postgres_jdbc_url, table=\"dates\", properties=postgres_connection_properties)\n",
    "dates_with_id.show(3)\n",
    "dates_with_id.count()"
   ]
  },
  {
   "cell_type": "markdown",
   "id": "051fc61f",
   "metadata": {},
   "source": [
    "Таблица pet_types"
   ]
  },
  {
   "cell_type": "code",
   "execution_count": 9,
   "id": "68d983e2",
   "metadata": {},
   "outputs": [
    {
     "name": "stdout",
     "output_type": "stream",
     "text": [
      "+-----------+-------------+\n",
      "|pet_type_id|pet_type_name|\n",
      "+-----------+-------------+\n",
      "|          1|          dog|\n",
      "|          2|          cat|\n",
      "|          3|         bird|\n",
      "+-----------+-------------+\n",
      "\n"
     ]
    },
    {
     "data": {
      "text/plain": [
       "3"
      ]
     },
     "execution_count": 9,
     "metadata": {},
     "output_type": "execute_result"
    }
   ],
   "source": [
    "execute_query(\"CREATE TABLE IF NOT EXISTS pet_types (pet_type_id SERIAL PRIMARY KEY, pet_type_name VARCHAR UNIQUE);\")\n",
    "\n",
    "pet_types = mock_data.select(\n",
    "    F.col(\"customer_pet_type\").alias(\"pet_type_name\")\n",
    ").distinct()\n",
    "\n",
    "pet_types.write \\\n",
    "    .format(\"jdbc\") \\\n",
    "    .option(\"url\", postgres_jdbc_url) \\\n",
    "    .option(\"dbtable\", \"pet_types\") \\\n",
    "    .option(\"user\", postgres_connection_properties[\"user\"]) \\\n",
    "    .option(\"password\", postgres_connection_properties[\"password\"]) \\\n",
    "    .option(\"driver\", \"org.postgresql.Driver\") \\\n",
    "    .mode(\"append\") \\\n",
    "    .save()\n",
    "\n",
    "pet_types_with_id = spark.read.jdbc(url=postgres_jdbc_url, table=\"pet_types\", properties=postgres_connection_properties)\n",
    "pet_types_with_id.show(3)\n",
    "pet_types_with_id.count()"
   ]
  },
  {
   "cell_type": "markdown",
   "id": "1a09453f",
   "metadata": {},
   "source": [
    "Таблица pet_breeds"
   ]
  },
  {
   "cell_type": "code",
   "execution_count": 10,
   "id": "4b9c87b2",
   "metadata": {},
   "outputs": [
    {
     "name": "stdout",
     "output_type": "stream",
     "text": [
      "+------------+------------------+\n",
      "|pet_breed_id|    pet_breed_name|\n",
      "+------------+------------------+\n",
      "|           1|Labrador Retriever|\n",
      "|           2|          Parakeet|\n",
      "|           3|           Siamese|\n",
      "+------------+------------------+\n",
      "\n"
     ]
    },
    {
     "data": {
      "text/plain": [
       "3"
      ]
     },
     "execution_count": 10,
     "metadata": {},
     "output_type": "execute_result"
    }
   ],
   "source": [
    "execute_query(\"CREATE TABLE IF NOT EXISTS pet_breeds (pet_breed_id SERIAL PRIMARY KEY, pet_breed_name VARCHAR UNIQUE);\")\n",
    "\n",
    "pet_breeds = mock_data.select(\n",
    "    F.col(\"customer_pet_breed\").alias(\"pet_breed_name\")\n",
    ").distinct()\n",
    "\n",
    "pet_breeds.write \\\n",
    "    .format(\"jdbc\") \\\n",
    "    .option(\"url\", postgres_jdbc_url) \\\n",
    "    .option(\"dbtable\", \"pet_breeds\") \\\n",
    "    .option(\"user\", postgres_connection_properties[\"user\"]) \\\n",
    "    .option(\"password\", postgres_connection_properties[\"password\"]) \\\n",
    "    .option(\"driver\", \"org.postgresql.Driver\") \\\n",
    "    .mode(\"append\") \\\n",
    "    .save()\n",
    "\n",
    "pet_breeds_with_id = spark.read.jdbc(url=postgres_jdbc_url, table=\"pet_breeds\", properties=postgres_connection_properties)\n",
    "pet_breeds_with_id.show(3)\n",
    "pet_breeds_with_id.count()"
   ]
  },
  {
   "cell_type": "markdown",
   "id": "f0f6aa27",
   "metadata": {},
   "source": [
    "Таблица pet_categories"
   ]
  },
  {
   "cell_type": "code",
   "execution_count": 11,
   "id": "b6ac04cc",
   "metadata": {},
   "outputs": [
    {
     "name": "stdout",
     "output_type": "stream",
     "text": [
      "+---------------+-----------------+\n",
      "|pet_category_id|pet_category_name|\n",
      "+---------------+-----------------+\n",
      "|              1|         Reptiles|\n",
      "|              2|             Fish|\n",
      "|              3|            Birds|\n",
      "+---------------+-----------------+\n",
      "only showing top 3 rows\n",
      "\n"
     ]
    },
    {
     "data": {
      "text/plain": [
       "5"
      ]
     },
     "execution_count": 11,
     "metadata": {},
     "output_type": "execute_result"
    }
   ],
   "source": [
    "execute_query(\"CREATE TABLE IF NOT EXISTS pet_categories (pet_category_id SERIAL PRIMARY KEY, pet_category_name VARCHAR UNIQUE);\")\n",
    "\n",
    "pet_categories = mock_data.select(\n",
    "    F.col(\"pet_category\").alias(\"pet_category_name\")\n",
    ").distinct()\n",
    "\n",
    "pet_categories.write \\\n",
    "    .format(\"jdbc\") \\\n",
    "    .option(\"url\", postgres_jdbc_url) \\\n",
    "    .option(\"dbtable\", \"pet_categories\") \\\n",
    "    .option(\"user\", postgres_connection_properties[\"user\"]) \\\n",
    "    .option(\"password\", postgres_connection_properties[\"password\"]) \\\n",
    "    .option(\"driver\", \"org.postgresql.Driver\") \\\n",
    "    .mode(\"append\") \\\n",
    "    .save()\n",
    "\n",
    "pet_categories_with_id = spark.read.jdbc(url=postgres_jdbc_url, table=\"pet_categories\", properties=postgres_connection_properties)\n",
    "pet_categories_with_id.show(3)\n",
    "pet_categories_with_id.count()"
   ]
  },
  {
   "cell_type": "markdown",
   "id": "412c3aa5",
   "metadata": {},
   "source": [
    "Таблица pets"
   ]
  },
  {
   "cell_type": "code",
   "execution_count": 12,
   "id": "4eeace8b",
   "metadata": {},
   "outputs": [
    {
     "name": "stdout",
     "output_type": "stream",
     "text": [
      "+------+-----------+--------+------------+---------------+\n",
      "|pet_id|pet_type_id|pet_name|pet_breed_id|pet_category_id|\n",
      "+------+-----------+--------+------------+---------------+\n",
      "|     1|          3|   Barty|           1|              3|\n",
      "|     2|          2| Lombard|           1|              3|\n",
      "|     3|          1|  Odilia|           1|              3|\n",
      "+------+-----------+--------+------------+---------------+\n",
      "only showing top 3 rows\n",
      "\n"
     ]
    },
    {
     "data": {
      "text/plain": [
       "9850"
      ]
     },
     "execution_count": 12,
     "metadata": {},
     "output_type": "execute_result"
    }
   ],
   "source": [
    "execute_query(\"CREATE TABLE IF NOT EXISTS pets (pet_id SERIAL PRIMARY KEY, pet_type_id INT, pet_name VARCHAR, pet_breed_id INT, pet_category_id INT, FOREIGN KEY (pet_type_id) REFERENCES pet_types(pet_type_id), FOREIGN KEY (pet_breed_id) REFERENCES pet_breeds(pet_breed_id), FOREIGN KEY (pet_category_id) REFERENCES pet_categories(pet_category_id));\")\n",
    "\n",
    "pets = mock_data.join(pet_types_with_id, mock_data.customer_pet_type == pet_types_with_id.pet_type_name) \\\n",
    "    .join(pet_breeds_with_id, mock_data.customer_pet_breed == pet_breeds_with_id.pet_breed_name) \\\n",
    "    .join(pet_categories_with_id, mock_data.pet_category == pet_categories_with_id.pet_category_name) \\\n",
    "    .select(\n",
    "        pet_types_with_id[\"pet_type_id\"],\n",
    "        mock_data[\"customer_pet_name\"].alias(\"pet_name\"),\n",
    "        pet_breeds_with_id[\"pet_breed_id\"],\n",
    "        pet_categories_with_id[\"pet_category_id\"]\n",
    "    ).distinct()\n",
    "\n",
    "pets.write \\\n",
    "    .format(\"jdbc\") \\\n",
    "    .option(\"url\", postgres_jdbc_url) \\\n",
    "    .option(\"dbtable\", \"pets\") \\\n",
    "    .option(\"user\", postgres_connection_properties[\"user\"]) \\\n",
    "    .option(\"password\", postgres_connection_properties[\"password\"]) \\\n",
    "    .option(\"driver\", \"org.postgresql.Driver\") \\\n",
    "    .mode(\"append\") \\\n",
    "    .save()\n",
    "\n",
    "pets_with_id = spark.read.jdbc(url=postgres_jdbc_url, table=\"pets\", properties=postgres_connection_properties)\n",
    "pets_with_id.show(3)\n",
    "pets_with_id.count()"
   ]
  },
  {
   "cell_type": "markdown",
   "id": "d8091a58",
   "metadata": {},
   "source": [
    "Таблица customers"
   ]
  },
  {
   "cell_type": "code",
   "execution_count": 13,
   "id": "47c0ac5a",
   "metadata": {},
   "outputs": [
    {
     "name": "stdout",
     "output_type": "stream",
     "text": [
      "+-----------+-------------------+------------------+------------+--------------------+-------------------+--------------------+---------------+\n",
      "|customer_id|customer_first_name|customer_last_name|customer_age|      customer_email|customer_country_id|customer_postal_code|customer_pet_id|\n",
      "+-----------+-------------------+------------------+------------+--------------------+-------------------+--------------------+---------------+\n",
      "|          1|              Genia|             Toyer|          47|dnewberry8l@globo...|                 28|         94384 CEDEX|           9752|\n",
      "|          2|            Lorelle|           Whybrow|          44|pdicken28@seesaa.net|                176|              43-523|           4920|\n",
      "|          3|             Irwinn|        Shelbourne|          25|jvernazzafl@linke...|                151|                 P6A|           5685|\n",
      "+-----------+-------------------+------------------+------------+--------------------+-------------------+--------------------+---------------+\n",
      "only showing top 3 rows\n",
      "\n"
     ]
    },
    {
     "data": {
      "text/plain": [
       "10000"
      ]
     },
     "execution_count": 13,
     "metadata": {},
     "output_type": "execute_result"
    }
   ],
   "source": [
    "execute_query(\"CREATE TABLE IF NOT EXISTS customers (customer_id SERIAL PRIMARY KEY, customer_first_name VARCHAR, customer_last_name VARCHAR, customer_age INT, customer_email VARCHAR, customer_country_id INT, customer_postal_code VARCHAR, customer_pet_id INT, FOREIGN KEY (customer_country_id) REFERENCES countries(country_id), FOREIGN KEY (customer_pet_id) REFERENCES pets(pet_id));\")\n",
    "\n",
    "customers = mock_data.join(countries_with_id, mock_data.customer_country == countries_with_id.country_name) \\\n",
    "    .join(pet_types_with_id, mock_data.customer_pet_type == pet_types_with_id.pet_type_name) \\\n",
    "    .join(pet_breeds_with_id, mock_data.customer_pet_breed == pet_breeds_with_id.pet_breed_name) \\\n",
    "    .join(pet_categories_with_id, mock_data.pet_category == pet_categories_with_id.pet_category_name) \\\n",
    "    .join(pets_with_id, [\n",
    "        mock_data.customer_pet_name == pets_with_id.pet_name,\n",
    "        pet_types_with_id.pet_type_id == pets_with_id.pet_type_id,\n",
    "        pet_breeds_with_id.pet_breed_id == pets_with_id.pet_breed_id,\n",
    "        pet_categories_with_id.pet_category_id == pets_with_id.pet_category_id]) \\\n",
    "    .select(\n",
    "        mock_data[\"customer_first_name\"],\n",
    "        mock_data[\"customer_last_name\"],\n",
    "        mock_data[\"customer_age\"],\n",
    "        mock_data[\"customer_email\"],\n",
    "        countries_with_id[\"country_id\"].alias(\"customer_country_id\"),\n",
    "        mock_data[\"customer_postal_code\"],\n",
    "        pets_with_id[\"pet_id\"].alias(\"customer_pet_id\")\n",
    "    ).distinct()\n",
    "\n",
    "customers.write \\\n",
    "    .format(\"jdbc\") \\\n",
    "    .option(\"url\", postgres_jdbc_url) \\\n",
    "    .option(\"dbtable\", \"customers\") \\\n",
    "    .option(\"user\", postgres_connection_properties[\"user\"]) \\\n",
    "    .option(\"password\", postgres_connection_properties[\"password\"]) \\\n",
    "    .option(\"driver\", \"org.postgresql.Driver\") \\\n",
    "    .mode(\"append\") \\\n",
    "    .save()\n",
    "\n",
    "customers_with_id = spark.read.jdbc(url=postgres_jdbc_url, table=\"customers\", properties=postgres_connection_properties)\n",
    "customers_with_id.show(3)\n",
    "customers_with_id.count()"
   ]
  },
  {
   "cell_type": "markdown",
   "id": "104850e4",
   "metadata": {},
   "source": [
    "Таблица sellers"
   ]
  },
  {
   "cell_type": "code",
   "execution_count": 14,
   "id": "e587058a",
   "metadata": {},
   "outputs": [
    {
     "name": "stdout",
     "output_type": "stream",
     "text": [
      "+---------+-----------------+----------------+--------------------+-----------------+------------------+\n",
      "|seller_id|seller_first_name|seller_last_name|        seller_email|seller_country_id|seller_postal_code|\n",
      "+---------+-----------------+----------------+--------------------+-----------------+------------------+\n",
      "|        1|             Dari|     Brownbridge|dbrownbridgeet@ph...|                2|            352195|\n",
      "|        2|             Barr|          Conkey| bconkeyes@goo.ne.jp|                2|            188502|\n",
      "|        3|           Benita|       Davidescu|bdavidescu17@admi...|                2|            249929|\n",
      "+---------+-----------------+----------------+--------------------+-----------------+------------------+\n",
      "only showing top 3 rows\n",
      "\n"
     ]
    },
    {
     "data": {
      "text/plain": [
       "10000"
      ]
     },
     "execution_count": 14,
     "metadata": {},
     "output_type": "execute_result"
    }
   ],
   "source": [
    "execute_query(\"CREATE TABLE IF NOT EXISTS sellers (seller_id SERIAL PRIMARY KEY, seller_first_name VARCHAR, seller_last_name VARCHAR, seller_email VARCHAR, seller_country_id INT, seller_postal_code VARCHAR, FOREIGN KEY (seller_country_id) REFERENCES countries(country_id));\")\n",
    "\n",
    "sellers = mock_data.join(countries_with_id, mock_data.seller_country == countries_with_id.country_name) \\\n",
    "    .select(\n",
    "        mock_data[\"seller_first_name\"],\n",
    "        mock_data[\"seller_last_name\"],\n",
    "        mock_data[\"seller_email\"],\n",
    "        countries_with_id[\"country_id\"].alias(\"seller_country_id\"),\n",
    "        mock_data[\"seller_postal_code\"]\n",
    "    ).distinct()\n",
    "\n",
    "sellers.write \\\n",
    "    .format(\"jdbc\") \\\n",
    "    .option(\"url\", postgres_jdbc_url) \\\n",
    "    .option(\"dbtable\", \"sellers\") \\\n",
    "    .option(\"user\", postgres_connection_properties[\"user\"]) \\\n",
    "    .option(\"password\", postgres_connection_properties[\"password\"]) \\\n",
    "    .option(\"driver\", \"org.postgresql.Driver\") \\\n",
    "    .mode(\"append\") \\\n",
    "    .save()\n",
    "\n",
    "sellers_with_id = spark.read.jdbc(url=postgres_jdbc_url, table=\"sellers\", properties=postgres_connection_properties)\n",
    "sellers_with_id.show(3)\n",
    "sellers_with_id.count()"
   ]
  },
  {
   "cell_type": "markdown",
   "id": "37a72d1d",
   "metadata": {},
   "source": [
    "Таблица stores"
   ]
  },
  {
   "cell_type": "code",
   "execution_count": 15,
   "id": "9cf08176",
   "metadata": {},
   "outputs": [
    {
     "name": "stdout",
     "output_type": "stream",
     "text": [
      "+--------+-------------+--------------+-------------+-----------+----------------+------------+--------------------+\n",
      "|store_id|   store_name|store_location|store_city_id|store_state|store_country_id| store_phone|         store_email|\n",
      "+--------+-------------+--------------+-------------+-----------+----------------+------------+--------------------+\n",
      "|       1|Thoughtsphere|     7th Floor|         1657|        VER|             176|816-996-5401|jbeldersonlf@irs.gov|\n",
      "|       2|        Eazzy|      Room 182|         2592|        ENG|             173|114-332-5669|   tcameliada@vk.com|\n",
      "|       3|        Quimm|      Apt 1809|         5223|         10|             102|577-217-8194| tnunnery2g@imdb.com|\n",
      "+--------+-------------+--------------+-------------+-----------+----------------+------------+--------------------+\n",
      "only showing top 3 rows\n",
      "\n"
     ]
    },
    {
     "data": {
      "text/plain": [
       "10000"
      ]
     },
     "execution_count": 15,
     "metadata": {},
     "output_type": "execute_result"
    }
   ],
   "source": [
    "execute_query(\"CREATE TABLE IF NOT EXISTS stores (store_id SERIAL PRIMARY KEY, store_name VARCHAR, store_location VARCHAR, store_city_id INT, store_state VARCHAR, store_country_id INT, store_phone VARCHAR, store_email VARCHAR, FOREIGN KEY (store_city_id) REFERENCES cities(city_id), FOREIGN KEY (store_country_id) REFERENCES countries(country_id));\")\n",
    "\n",
    "stores = mock_data.join(cities_with_id, mock_data.store_city == cities_with_id.city_name) \\\n",
    "    .join(countries_with_id, mock_data.store_country == countries_with_id.country_name) \\\n",
    "    .select(\n",
    "        mock_data[\"store_name\"],\n",
    "        mock_data[\"store_location\"],\n",
    "        cities_with_id[\"city_id\"].alias(\"store_city_id\"),\n",
    "        mock_data[\"store_state\"],\n",
    "        countries_with_id[\"country_id\"].alias(\"store_country_id\"),\n",
    "        mock_data[\"store_phone\"],\n",
    "        mock_data[\"store_email\"]\n",
    "    ).distinct()\n",
    "\n",
    "stores.write \\\n",
    "    .format(\"jdbc\") \\\n",
    "    .option(\"url\", postgres_jdbc_url) \\\n",
    "    .option(\"dbtable\", \"stores\") \\\n",
    "    .option(\"user\", postgres_connection_properties[\"user\"]) \\\n",
    "    .option(\"password\", postgres_connection_properties[\"password\"]) \\\n",
    "    .option(\"driver\", \"org.postgresql.Driver\") \\\n",
    "    .mode(\"append\") \\\n",
    "    .save()\n",
    "\n",
    "stores_with_id = spark.read.jdbc(url=postgres_jdbc_url, table=\"stores\", properties=postgres_connection_properties)\n",
    "stores_with_id.show(3)\n",
    "stores_with_id.count()"
   ]
  },
  {
   "cell_type": "markdown",
   "id": "9b7a54a9",
   "metadata": {},
   "source": [
    "Таблица suppliers"
   ]
  },
  {
   "cell_type": "code",
   "execution_count": 16,
   "id": "23f2e176",
   "metadata": {},
   "outputs": [
    {
     "name": "stdout",
     "output_type": "stream",
     "text": [
      "+-----------+-------------+----------------+--------------------+--------------+----------------+----------------+-------------------+\n",
      "|supplier_id|supplier_name|supplier_contact|      supplier_email|supplier_phone|supplier_address|supplier_city_id|supplier_country_id|\n",
      "+-----------+-------------+----------------+--------------------+--------------+----------------+----------------+-------------------+\n",
      "|          1|   Browsezoom|    Chandra Heck| checkkj@dropbox.com|  298-320-9959|    PO Box 16684|            8243|                 10|\n",
      "|          2|      Jetwire|  Alvan Fronczak|afronczak8f@naver...|  292-753-7593|    PO Box 88685|            8344|                  2|\n",
      "|          3|         DabZ|   Tatum Gorling| tgorlingc7@phoca.cz|  844-754-1883|      20th Floor|            8627|                199|\n",
      "+-----------+-------------+----------------+--------------------+--------------+----------------+----------------+-------------------+\n",
      "only showing top 3 rows\n",
      "\n"
     ]
    },
    {
     "data": {
      "text/plain": [
       "10000"
      ]
     },
     "execution_count": 16,
     "metadata": {},
     "output_type": "execute_result"
    }
   ],
   "source": [
    "execute_query(\"CREATE TABLE IF NOT EXISTS suppliers (supplier_id SERIAL PRIMARY KEY, supplier_name VARCHAR, supplier_contact VARCHAR, supplier_email VARCHAR, supplier_phone VARCHAR, supplier_address VARCHAR, supplier_city_id INT, supplier_country_id INT, FOREIGN KEY (supplier_city_id) REFERENCES cities(city_id), FOREIGN KEY (supplier_country_id) REFERENCES countries(country_id));\")\n",
    "\n",
    "suppliers = mock_data.join(cities_with_id, mock_data.supplier_city == cities_with_id.city_name) \\\n",
    "    .join(countries_with_id, mock_data.supplier_country == countries_with_id.country_name) \\\n",
    "    .select(\n",
    "        mock_data[\"supplier_name\"],\n",
    "        mock_data[\"supplier_contact\"],\n",
    "        mock_data[\"supplier_email\"],\n",
    "        mock_data[\"supplier_phone\"],\n",
    "        mock_data[\"supplier_address\"],\n",
    "        cities_with_id[\"city_id\"].alias(\"supplier_city_id\"),\n",
    "        countries_with_id[\"country_id\"].alias(\"supplier_country_id\")\n",
    "    ).distinct()\n",
    "\n",
    "suppliers.write \\\n",
    "    .format(\"jdbc\") \\\n",
    "    .option(\"url\", postgres_jdbc_url) \\\n",
    "    .option(\"dbtable\", \"suppliers\") \\\n",
    "    .option(\"user\", postgres_connection_properties[\"user\"]) \\\n",
    "    .option(\"password\", postgres_connection_properties[\"password\"]) \\\n",
    "    .option(\"driver\", \"org.postgresql.Driver\") \\\n",
    "    .mode(\"append\") \\\n",
    "    .save()\n",
    "\n",
    "suppliers_with_id = spark.read.jdbc(url=postgres_jdbc_url, table=\"suppliers\", properties=postgres_connection_properties)\n",
    "suppliers_with_id.show(3)\n",
    "suppliers_with_id.count()"
   ]
  },
  {
   "cell_type": "markdown",
   "id": "823bf799",
   "metadata": {},
   "source": [
    "Таблица product_names"
   ]
  },
  {
   "cell_type": "code",
   "execution_count": 17,
   "id": "2d7fa510",
   "metadata": {},
   "outputs": [
    {
     "name": "stdout",
     "output_type": "stream",
     "text": [
      "+---------------+------------+\n",
      "|product_name_id|product_name|\n",
      "+---------------+------------+\n",
      "|              1|   Bird Cage|\n",
      "|              2|    Dog Food|\n",
      "|              3|     Cat Toy|\n",
      "+---------------+------------+\n",
      "\n"
     ]
    },
    {
     "data": {
      "text/plain": [
       "3"
      ]
     },
     "execution_count": 17,
     "metadata": {},
     "output_type": "execute_result"
    }
   ],
   "source": [
    "execute_query(\"CREATE TABLE IF NOT EXISTS product_names (product_name_id SERIAL PRIMARY KEY, product_name VARCHAR UNIQUE);\")\n",
    "\n",
    "product_names = mock_data.select(F.col(\"product_name\")).distinct()\n",
    "\n",
    "product_names.write \\\n",
    "    .format(\"jdbc\") \\\n",
    "    .option(\"url\", postgres_jdbc_url) \\\n",
    "    .option(\"dbtable\", \"product_names\") \\\n",
    "    .option(\"user\", postgres_connection_properties[\"user\"]) \\\n",
    "    .option(\"password\", postgres_connection_properties[\"password\"]) \\\n",
    "    .option(\"driver\", \"org.postgresql.Driver\") \\\n",
    "    .mode(\"append\") \\\n",
    "    .save()\n",
    "\n",
    "product_names_with_id = spark.read.jdbc(url=postgres_jdbc_url, table=\"product_names\", properties=postgres_connection_properties)\n",
    "product_names_with_id.show(3)\n",
    "product_names_with_id.count()"
   ]
  },
  {
   "cell_type": "markdown",
   "id": "94496b48",
   "metadata": {},
   "source": [
    "Таблица product_categories"
   ]
  },
  {
   "cell_type": "code",
   "execution_count": 18,
   "id": "8db2ad3d",
   "metadata": {},
   "outputs": [
    {
     "name": "stdout",
     "output_type": "stream",
     "text": [
      "+-------------------+---------------------+\n",
      "|product_category_id|product_category_name|\n",
      "+-------------------+---------------------+\n",
      "|                  1|                 Cage|\n",
      "|                  2|                 Food|\n",
      "|                  3|                  Toy|\n",
      "+-------------------+---------------------+\n",
      "\n"
     ]
    },
    {
     "data": {
      "text/plain": [
       "3"
      ]
     },
     "execution_count": 18,
     "metadata": {},
     "output_type": "execute_result"
    }
   ],
   "source": [
    "execute_query(\"CREATE TABLE IF NOT EXISTS product_categories (product_category_id SERIAL PRIMARY KEY, product_category_name VARCHAR UNIQUE);\")\n",
    "\n",
    "product_categories = mock_data.select(F.col(\"product_category\").alias(\"product_category_name\")).distinct()\n",
    "\n",
    "product_categories.write \\\n",
    "    .format(\"jdbc\") \\\n",
    "    .option(\"url\", postgres_jdbc_url) \\\n",
    "    .option(\"dbtable\", \"product_categories\") \\\n",
    "    .option(\"user\", postgres_connection_properties[\"user\"]) \\\n",
    "    .option(\"password\", postgres_connection_properties[\"password\"]) \\\n",
    "    .option(\"driver\", \"org.postgresql.Driver\") \\\n",
    "    .mode(\"append\") \\\n",
    "    .save()\n",
    "\n",
    "product_categories_with_id = spark.read.jdbc(url=postgres_jdbc_url, table=\"product_categories\", properties=postgres_connection_properties)\n",
    "product_categories_with_id.show(3)\n",
    "product_categories_with_id.count()"
   ]
  },
  {
   "cell_type": "markdown",
   "id": "628fe4e9",
   "metadata": {},
   "source": [
    "Таблица product_colors"
   ]
  },
  {
   "cell_type": "code",
   "execution_count": 19,
   "id": "34491284",
   "metadata": {},
   "outputs": [
    {
     "name": "stdout",
     "output_type": "stream",
     "text": [
      "+----------------+------------------+\n",
      "|product_color_id|product_color_name|\n",
      "+----------------+------------------+\n",
      "|               1|              Teal|\n",
      "|               2|             Khaki|\n",
      "|               3|           Crimson|\n",
      "+----------------+------------------+\n",
      "only showing top 3 rows\n",
      "\n"
     ]
    },
    {
     "data": {
      "text/plain": [
       "19"
      ]
     },
     "execution_count": 19,
     "metadata": {},
     "output_type": "execute_result"
    }
   ],
   "source": [
    "execute_query(\"CREATE TABLE IF NOT EXISTS product_colors (product_color_id SERIAL PRIMARY KEY, product_color_name VARCHAR UNIQUE);\")\n",
    "\n",
    "product_colors = mock_data.select(F.col(\"product_color\").alias(\"product_color_name\")).distinct()\n",
    "\n",
    "product_colors.write \\\n",
    "    .format(\"jdbc\") \\\n",
    "    .option(\"url\", postgres_jdbc_url) \\\n",
    "    .option(\"dbtable\", \"product_colors\") \\\n",
    "    .option(\"user\", postgres_connection_properties[\"user\"]) \\\n",
    "    .option(\"password\", postgres_connection_properties[\"password\"]) \\\n",
    "    .option(\"driver\", \"org.postgresql.Driver\") \\\n",
    "    .mode(\"append\") \\\n",
    "    .save()\n",
    "\n",
    "product_colors_with_id = spark.read.jdbc(url=postgres_jdbc_url, table=\"product_colors\", properties=postgres_connection_properties)\n",
    "product_colors_with_id.show(3)\n",
    "product_colors_with_id.count()"
   ]
  },
  {
   "cell_type": "markdown",
   "id": "159f986d",
   "metadata": {},
   "source": [
    "Таблица product_sizes"
   ]
  },
  {
   "cell_type": "code",
   "execution_count": 20,
   "id": "cf47f262",
   "metadata": {},
   "outputs": [
    {
     "name": "stdout",
     "output_type": "stream",
     "text": [
      "+---------------+-----------------+\n",
      "|product_size_id|product_size_name|\n",
      "+---------------+-----------------+\n",
      "|              1|           Medium|\n",
      "|              2|            Small|\n",
      "|              3|            Large|\n",
      "+---------------+-----------------+\n",
      "\n"
     ]
    },
    {
     "data": {
      "text/plain": [
       "3"
      ]
     },
     "execution_count": 20,
     "metadata": {},
     "output_type": "execute_result"
    }
   ],
   "source": [
    "execute_query(\"CREATE TABLE IF NOT EXISTS product_sizes (product_size_id SERIAL PRIMARY KEY, product_size_name VARCHAR UNIQUE);\")\n",
    "\n",
    "product_sizes = mock_data.select(F.col(\"product_size\").alias(\"product_size_name\")).distinct()\n",
    "\n",
    "product_sizes.write \\\n",
    "    .format(\"jdbc\") \\\n",
    "    .option(\"url\", postgres_jdbc_url) \\\n",
    "    .option(\"dbtable\", \"product_sizes\") \\\n",
    "    .option(\"user\", postgres_connection_properties[\"user\"]) \\\n",
    "    .option(\"password\", postgres_connection_properties[\"password\"]) \\\n",
    "    .option(\"driver\", \"org.postgresql.Driver\") \\\n",
    "    .mode(\"append\") \\\n",
    "    .save()\n",
    "\n",
    "product_sizes_with_id = spark.read.jdbc(url=postgres_jdbc_url, table=\"product_sizes\", properties=postgres_connection_properties)\n",
    "product_sizes_with_id.show(3)\n",
    "product_sizes_with_id.count()"
   ]
  },
  {
   "cell_type": "markdown",
   "id": "cb9d8144",
   "metadata": {},
   "source": [
    "Таблица product_brands"
   ]
  },
  {
   "cell_type": "code",
   "execution_count": 21,
   "id": "59757126",
   "metadata": {},
   "outputs": [
    {
     "name": "stdout",
     "output_type": "stream",
     "text": [
      "+----------------+------------------+\n",
      "|product_brand_id|product_brand_name|\n",
      "+----------------+------------------+\n",
      "|               1|           Jetwire|\n",
      "|               2|          Jaxworks|\n",
      "|               3|         Reallinks|\n",
      "+----------------+------------------+\n",
      "only showing top 3 rows\n",
      "\n"
     ]
    },
    {
     "data": {
      "text/plain": [
       "383"
      ]
     },
     "execution_count": 21,
     "metadata": {},
     "output_type": "execute_result"
    }
   ],
   "source": [
    "execute_query(\"CREATE TABLE IF NOT EXISTS product_brands (product_brand_id SERIAL PRIMARY KEY, product_brand_name VARCHAR UNIQUE);\")\n",
    "\n",
    "product_brands = mock_data.select(F.col(\"product_brand\").alias(\"product_brand_name\")).distinct()\n",
    "\n",
    "product_brands.write \\\n",
    "    .format(\"jdbc\") \\\n",
    "    .option(\"url\", postgres_jdbc_url) \\\n",
    "    .option(\"dbtable\", \"product_brands\") \\\n",
    "    .option(\"user\", postgres_connection_properties[\"user\"]) \\\n",
    "    .option(\"password\", postgres_connection_properties[\"password\"]) \\\n",
    "    .option(\"driver\", \"org.postgresql.Driver\") \\\n",
    "    .mode(\"append\") \\\n",
    "    .save()\n",
    "\n",
    "product_brands_with_id = spark.read.jdbc(url=postgres_jdbc_url, table=\"product_brands\", properties=postgres_connection_properties)\n",
    "product_brands_with_id.show(3)\n",
    "product_brands_with_id.count()"
   ]
  },
  {
   "cell_type": "markdown",
   "id": "4351301f",
   "metadata": {},
   "source": [
    "Таблица product_materials"
   ]
  },
  {
   "cell_type": "code",
   "execution_count": 22,
   "id": "b27753bf",
   "metadata": {},
   "outputs": [
    {
     "name": "stdout",
     "output_type": "stream",
     "text": [
      "+-------------------+---------------------+\n",
      "|product_material_id|product_material_name|\n",
      "+-------------------+---------------------+\n",
      "|                  1|                Steel|\n",
      "|                  2|                Vinyl|\n",
      "|                  3|              Granite|\n",
      "+-------------------+---------------------+\n",
      "only showing top 3 rows\n",
      "\n"
     ]
    },
    {
     "data": {
      "text/plain": [
       "11"
      ]
     },
     "execution_count": 22,
     "metadata": {},
     "output_type": "execute_result"
    }
   ],
   "source": [
    "execute_query(\"CREATE TABLE IF NOT EXISTS product_materials (product_material_id SERIAL PRIMARY KEY, product_material_name VARCHAR UNIQUE);\")\n",
    "\n",
    "product_materials = mock_data.select(F.col(\"product_material\").alias(\"product_material_name\")).distinct()\n",
    "\n",
    "product_materials.write \\\n",
    "    .format(\"jdbc\") \\\n",
    "    .option(\"url\", postgres_jdbc_url) \\\n",
    "    .option(\"dbtable\", \"product_materials\") \\\n",
    "    .option(\"user\", postgres_connection_properties[\"user\"]) \\\n",
    "    .option(\"password\", postgres_connection_properties[\"password\"]) \\\n",
    "    .option(\"driver\", \"org.postgresql.Driver\") \\\n",
    "    .mode(\"append\") \\\n",
    "    .save()\n",
    "\n",
    "product_materials_with_id = spark.read.jdbc(url=postgres_jdbc_url, table=\"product_materials\", properties=postgres_connection_properties)\n",
    "product_materials_with_id.show(3)\n",
    "product_materials_with_id.count()"
   ]
  },
  {
   "cell_type": "markdown",
   "id": "4ee30161",
   "metadata": {},
   "source": [
    "Таблица products"
   ]
  },
  {
   "cell_type": "code",
   "execution_count": 23,
   "id": "50f6becc",
   "metadata": {},
   "outputs": [
    {
     "name": "stdout",
     "output_type": "stream",
     "text": [
      "+----------+---------------+-------------------+--------------------+----------------+--------------------+----------------+---------------+----------------+-------------------+--------------------+--------------------+---------------+-----------------------+----------------------+-------------------+\n",
      "|product_id|product_name_id|product_category_id|       product_price|product_quantity|      product_weight|product_color_id|product_size_id|product_brand_id|product_material_id| product_description|      product_rating|product_reviews|product_release_date_id|product_expiry_date_id|product_supplier_id|\n",
      "+----------+---------------+-------------------+--------------------+----------------+--------------------+----------------+---------------+----------------+-------------------+--------------------+--------------------+---------------+-----------------------+----------------------+-------------------+\n",
      "|         1|              1|                  3|20.09000000000000...|              12|7.000000000000000000|              15|              3|              95|                  6|Duis bibendum. Mo...|4.000000000000000000|            752|                   1761|                  6467|               7556|\n",
      "|         2|              2|                  2|41.15000000000000...|              44|24.60000000000000...|              13|              3|             161|                  6|Aliquam quis turp...|2.400000000000000000|            506|                   3973|                  4584|                673|\n",
      "|         3|              1|                  1|94.60000000000000...|              14|9.200000000000000000|               3|              1|             299|                  6|Proin leo odio, p...|4.800000000000000000|            640|                   1750|                  6907|               7165|\n",
      "+----------+---------------+-------------------+--------------------+----------------+--------------------+----------------+---------------+----------------+-------------------+--------------------+--------------------+---------------+-----------------------+----------------------+-------------------+\n",
      "only showing top 3 rows\n",
      "\n"
     ]
    },
    {
     "data": {
      "text/plain": [
       "10000"
      ]
     },
     "execution_count": 23,
     "metadata": {},
     "output_type": "execute_result"
    }
   ],
   "source": [
    "execute_query(\"CREATE TABLE IF NOT EXISTS products (product_id SERIAL PRIMARY KEY, product_name_id INT, product_category_id INT, product_price DECIMAL, product_quantity INT, product_weight DECIMAL, product_color_id INT, product_size_id INT, product_brand_id INT, product_material_id INT, product_description TEXT, product_rating DECIMAL, product_reviews INT, product_release_date_id INT, product_expiry_date_id INT, product_supplier_id INT, FOREIGN KEY (product_name_id) REFERENCES product_names(product_name_id), FOREIGN KEY (product_category_id) REFERENCES product_categories(product_category_id), FOREIGN KEY (product_color_id) REFERENCES product_colors(product_color_id), FOREIGN KEY (product_size_id) REFERENCES product_sizes(product_size_id), FOREIGN KEY (product_brand_id) REFERENCES product_brands(product_brand_id), FOREIGN KEY (product_material_id) REFERENCES product_materials(product_material_id), FOREIGN KEY (product_release_date_id) REFERENCES dates(date_id), FOREIGN KEY (product_expiry_date_id) REFERENCES dates(date_id), FOREIGN KEY (product_supplier_id) REFERENCES suppliers(supplier_id));\")\n",
    "\n",
    "products = mock_data.join(product_names_with_id, mock_data.product_name == product_names_with_id.product_name) \\\n",
    "    .join(product_categories_with_id, mock_data.product_category == product_categories_with_id.product_category_name) \\\n",
    "    .join(product_colors_with_id, mock_data.product_color == product_colors_with_id.product_color_name) \\\n",
    "    .join(product_sizes_with_id, mock_data.product_size == product_sizes_with_id.product_size_name) \\\n",
    "    .join(product_brands_with_id, mock_data.product_brand == product_brands_with_id.product_brand_name) \\\n",
    "    .join(product_materials_with_id, mock_data.product_material == product_materials_with_id.product_material_name) \\\n",
    "    .join(suppliers_with_id, [mock_data.supplier_name == suppliers_with_id.supplier_name, mock_data.supplier_contact == suppliers_with_id.supplier_contact]) \\\n",
    "    .join(dates_with_id.alias(\"release_date\"), mock_data.product_release_date == F.col(\"release_date.date_value\")) \\\n",
    "    .join(dates_with_id.alias(\"expiry_date\"), mock_data.product_expiry_date == F.col(\"expiry_date.date_value\")) \\\n",
    "    .select(\n",
    "        product_names_with_id[\"product_name_id\"].alias(\"product_name_id\"),\n",
    "        product_categories_with_id[\"product_category_id\"].alias(\"product_category_id\"),\n",
    "        mock_data[\"product_price\"],\n",
    "        mock_data[\"product_quantity\"],\n",
    "        mock_data[\"product_weight\"],\n",
    "        product_colors_with_id[\"product_color_id\"].alias(\"product_color_id\"),\n",
    "        product_sizes_with_id[\"product_size_id\"].alias(\"product_size_id\"),\n",
    "        product_brands_with_id[\"product_brand_id\"].alias(\"product_brand_id\"),\n",
    "        product_materials_with_id[\"product_material_id\"].alias(\"product_material_id\"),\n",
    "        mock_data[\"product_description\"],\n",
    "        mock_data[\"product_rating\"],\n",
    "        mock_data[\"product_reviews\"],\n",
    "        F.col(\"release_date.date_id\").alias(\"product_release_date_id\"),\n",
    "        F.col(\"expiry_date.date_id\").alias(\"product_expiry_date_id\"),\n",
    "        suppliers_with_id[\"supplier_id\"].alias(\"product_supplier_id\")\n",
    "    ).distinct()\n",
    "\n",
    "products.write \\\n",
    "    .format(\"jdbc\") \\\n",
    "    .option(\"url\", postgres_jdbc_url) \\\n",
    "    .option(\"dbtable\", \"products\") \\\n",
    "    .option(\"user\", postgres_connection_properties[\"user\"]) \\\n",
    "    .option(\"password\", postgres_connection_properties[\"password\"]) \\\n",
    "    .option(\"driver\", \"org.postgresql.Driver\") \\\n",
    "    .mode(\"append\") \\\n",
    "    .save()\n",
    "\n",
    "products_with_id = spark.read.jdbc(url=postgres_jdbc_url, table=\"products\", properties=postgres_connection_properties)\n",
    "products_with_id.show(3)\n",
    "products_with_id.count()"
   ]
  },
  {
   "cell_type": "markdown",
   "id": "8cfc99ce",
   "metadata": {},
   "source": [
    "Таблица sales"
   ]
  },
  {
   "cell_type": "code",
   "execution_count": 24,
   "id": "68335851",
   "metadata": {},
   "outputs": [
    {
     "name": "stdout",
     "output_type": "stream",
     "text": [
      "+-------+------------+----------------+--------------+---------------+-------------+-------------+--------------------+\n",
      "|sale_id|sale_date_id|sale_customer_id|sale_seller_id|sale_product_id|sale_store_id|sale_quantity|    sale_total_price|\n",
      "+-------+------------+----------------+--------------+---------------+-------------+-------------+--------------------+\n",
      "|      1|         283|            3070|          3636|           5423|         1130|           10|63.16000000000000...|\n",
      "|      2|         277|            6035|          3052|           2538|         6559|            2|95.28000000000000...|\n",
      "|      3|         260|            8460|           595|           3836|         2353|            7|216.0600000000000...|\n",
      "+-------+------------+----------------+--------------+---------------+-------------+-------------+--------------------+\n",
      "only showing top 3 rows\n",
      "\n"
     ]
    },
    {
     "data": {
      "text/plain": [
       "10000"
      ]
     },
     "execution_count": 24,
     "metadata": {},
     "output_type": "execute_result"
    }
   ],
   "source": [
    "execute_query(\"CREATE TABLE IF NOT EXISTS sales (sale_id SERIAL PRIMARY KEY, sale_date_id INT, sale_customer_id INT, sale_seller_id INT, sale_product_id INT, sale_store_id INT, sale_quantity INT, sale_total_price DECIMAL, FOREIGN KEY (sale_date_id) REFERENCES dates(date_id), FOREIGN KEY (sale_customer_id) REFERENCES customers(customer_id), FOREIGN KEY (sale_seller_id) REFERENCES sellers(seller_id), FOREIGN KEY (sale_product_id) REFERENCES products(product_id), FOREIGN KEY (sale_store_id) REFERENCES stores(store_id));\")\n",
    "\n",
    "md = mock_data.alias(\"md\")\n",
    "d = dates_with_id.alias(\"d\")\n",
    "c = customers_with_id.alias(\"c\")\n",
    "s = sellers_with_id.alias(\"s\")\n",
    "st = stores_with_id.alias(\"st\")\n",
    "p = products_with_id.alias(\"p\")\n",
    "pn = product_names_with_id.alias(\"pn\")\n",
    "pc = product_categories_with_id.alias(\"pc\")\n",
    "pco = product_colors_with_id.alias(\"pco\")\n",
    "ps = product_sizes_with_id.alias(\"ps\")\n",
    "pb = product_brands_with_id.alias(\"pb\")\n",
    "pm = product_materials_with_id.alias(\"pm\")\n",
    "\n",
    "sales = md \\\n",
    "    .join(d, md.sale_date == d.date_value) \\\n",
    "    .join(c, md.customer_email == c.customer_email) \\\n",
    "    .join(s, md.seller_email == s.seller_email) \\\n",
    "    .join(st, [md.store_name == st.store_name,\n",
    "              md.store_location == st.store_location,\n",
    "              md.store_phone == st.store_phone,\n",
    "              md.store_email == st.store_email]) \\\n",
    "    .join(pn, md.product_name == pn.product_name) \\\n",
    "    .join(pc, md.product_category == pc.product_category_name) \\\n",
    "    .join(pco, md.product_color == pco.product_color_name) \\\n",
    "    .join(ps, md.product_size == ps.product_size_name) \\\n",
    "    .join(pb, md.product_brand == pb.product_brand_name) \\\n",
    "    .join(pm, md.product_material == pm.product_material_name) \\\n",
    "    .join(p, [\n",
    "        p.product_name_id == pn.product_name_id,\n",
    "        p.product_category_id == pc.product_category_id,\n",
    "        p.product_color_id == pco.product_color_id,\n",
    "        p.product_size_id == ps.product_size_id,\n",
    "        p.product_brand_id == pb.product_brand_id,\n",
    "        p.product_material_id == pm.product_material_id,\n",
    "        md.product_price == p.product_price,\n",
    "        md.product_quantity == p.product_quantity,\n",
    "        md.product_weight == p.product_weight\n",
    "    ]) \\\n",
    "    .select(\n",
    "        d[\"date_id\"].alias(\"sale_date_id\"),\n",
    "        c[\"customer_id\"].alias(\"sale_customer_id\"),\n",
    "        s[\"seller_id\"].alias(\"sale_seller_id\"),\n",
    "        p[\"product_id\"].alias(\"sale_product_id\"),\n",
    "        st[\"store_id\"].alias(\"sale_store_id\"),\n",
    "        md[\"sale_quantity\"],\n",
    "        md[\"sale_total_price\"]\n",
    "    ).distinct()\n",
    "\n",
    "sales.write \\\n",
    "    .format(\"jdbc\") \\\n",
    "    .option(\"url\", postgres_jdbc_url) \\\n",
    "    .option(\"dbtable\", \"sales\") \\\n",
    "    .option(\"user\", postgres_connection_properties[\"user\"]) \\\n",
    "    .option(\"password\", postgres_connection_properties[\"password\"]) \\\n",
    "    .option(\"driver\", \"org.postgresql.Driver\") \\\n",
    "    .mode(\"append\") \\\n",
    "    .save()\n",
    "\n",
    "sales_with_id = spark.read.jdbc(url=postgres_jdbc_url, table=\"sales\", properties=postgres_connection_properties)\n",
    "sales_with_id.show(3)\n",
    "sales_with_id.count()"
   ]
  },
  {
   "cell_type": "markdown",
   "id": "5f78f159",
   "metadata": {},
   "source": [
    "## Создание витрин с отчётами"
   ]
  },
  {
   "cell_type": "code",
   "execution_count": 25,
   "id": "18fa6a7d",
   "metadata": {},
   "outputs": [],
   "source": [
    "clickhouse_jdbc_url = \"jdbc:clickhouse://clickhouse:8123/myreports\"\n",
    "clickhouse_connection_properties = {\n",
    "    \"user\": \"myclickhouse\",\n",
    "    \"password\": \"mypassword\",\n",
    "    \"driver\": \"com.clickhouse.jdbc.ClickHouseDriver\"\n",
    "}"
   ]
  },
  {
   "cell_type": "markdown",
   "id": "7462ffa2",
   "metadata": {},
   "source": [
    "### Витрина продаж по продуктам"
   ]
  },
  {
   "cell_type": "markdown",
   "id": "c67f95e1",
   "metadata": {},
   "source": [
    "Топ-10 самых продаваемых продуктов"
   ]
  },
  {
   "cell_type": "code",
   "execution_count": 26,
   "id": "34b63278",
   "metadata": {},
   "outputs": [
    {
     "name": "stdout",
     "output_type": "stream",
     "text": [
      "+------------+-------------------+--------------------+\n",
      "|product_name|total_quantity_sold|       total_revenue|\n",
      "+------------+-------------------+--------------------+\n",
      "|    Dog Food|              18298|848567.1900000000...|\n",
      "|   Bird Cage|              18205|847478.0500000000...|\n",
      "|     Cat Toy|              18120|833806.8800000000...|\n",
      "+------------+-------------------+--------------------+\n",
      "\n"
     ]
    }
   ],
   "source": [
    "top_10_products = sales_with_id.join(products_with_id, sales_with_id.sale_product_id == products_with_id.product_id) \\\n",
    "    .join(product_names_with_id, products_with_id.product_name_id == product_names_with_id.product_name_id) \\\n",
    "    .groupBy(product_names_with_id.product_name) \\\n",
    "    .agg(\n",
    "        F.sum(sales_with_id.sale_quantity).alias(\"total_quantity_sold\"),\n",
    "        F.sum(sales_with_id.sale_total_price).alias(\"total_revenue\")\n",
    "    ) \\\n",
    "    .orderBy(F.desc(\"total_quantity_sold\")) \\\n",
    "    .limit(10)\n",
    "\n",
    "top_10_products.show()"
   ]
  },
  {
   "cell_type": "markdown",
   "id": "d44a8dfc",
   "metadata": {},
   "source": [
    "Общая выручка по категориям продуктов"
   ]
  },
  {
   "cell_type": "code",
   "execution_count": 27,
   "id": "88223fa4",
   "metadata": {},
   "outputs": [
    {
     "name": "stdout",
     "output_type": "stream",
     "text": [
      "+---------------------+--------------------+\n",
      "|product_category_name|       total_revenue|\n",
      "+---------------------+--------------------+\n",
      "|                 Cage|831117.9400000000...|\n",
      "|                 Food|830632.5500000000...|\n",
      "|                  Toy|868101.6300000000...|\n",
      "+---------------------+--------------------+\n",
      "\n"
     ]
    }
   ],
   "source": [
    "revenue_by_category = sales_with_id.join(products_with_id, sales_with_id.sale_product_id == products_with_id.product_id) \\\n",
    "    .join(product_categories_with_id, products_with_id.product_category_id == product_categories_with_id.product_category_id) \\\n",
    "    .groupBy(product_categories_with_id.product_category_name) \\\n",
    "    .agg(\n",
    "        F.sum(sales_with_id.sale_total_price).alias(\"total_revenue\")\n",
    "    )\n",
    "\n",
    "revenue_by_category.show()"
   ]
  },
  {
   "cell_type": "markdown",
   "id": "10ddcd5e",
   "metadata": {},
   "source": [
    "Средний рейтинг и количество отзывов для каждого продукта"
   ]
  },
  {
   "cell_type": "code",
   "execution_count": 28,
   "id": "9030bac8",
   "metadata": {},
   "outputs": [
    {
     "name": "stdout",
     "output_type": "stream",
     "text": [
      "+------------+--------------------+-------------+\n",
      "|product_name|          avg_rating|total_reviews|\n",
      "+------------+--------------------+-------------+\n",
      "|   Bird Cage|3.000149164677804...|      1682260|\n",
      "|    Dog Food|3.018298891883797...|      1653413|\n",
      "|     Cat Toy|3.006860078573587...|      1676222|\n",
      "+------------+--------------------+-------------+\n",
      "\n"
     ]
    }
   ],
   "source": [
    "rating_reviews = products_with_id.join(product_names_with_id, products_with_id.product_name_id == product_names_with_id.product_name_id) \\\n",
    "    .groupBy(product_names_with_id.product_name) \\\n",
    "    .agg(\n",
    "        F.avg(products_with_id.product_rating).alias(\"avg_rating\"),\n",
    "        F.sum(products_with_id.product_reviews).alias(\"total_reviews\")\n",
    "    )\n",
    "\n",
    "rating_reviews.show()"
   ]
  },
  {
   "cell_type": "code",
   "execution_count": 29,
   "id": "a10a2dd0",
   "metadata": {},
   "outputs": [],
   "source": [
    "top_10_with_rating = top_10_products.join(\n",
    "    rating_reviews, on=\"product_name\", how=\"left\"\n",
    ")\n",
    "\n",
    "top_10_with_rating.write \\\n",
    "    .format(\"jdbc\") \\\n",
    "    .option(\"url\", clickhouse_jdbc_url) \\\n",
    "    .option(\"dbtable\", \"top_10_products_report\") \\\n",
    "    .option(\"user\", clickhouse_connection_properties[\"user\"]) \\\n",
    "    .option(\"password\", clickhouse_connection_properties[\"password\"]) \\\n",
    "    .option(\"driver\", clickhouse_connection_properties[\"driver\"]) \\\n",
    "    .option(\"createTableOptions\", \"ENGINE = MergeTree ORDER BY (product_name)\") \\\n",
    "    .mode(\"overwrite\") \\\n",
    "    .save()\n",
    "\n",
    "revenue_by_category.write \\\n",
    "    .format(\"jdbc\") \\\n",
    "    .option(\"url\", clickhouse_jdbc_url) \\\n",
    "    .option(\"dbtable\", \"revenue_by_category_report\") \\\n",
    "    .option(\"user\", clickhouse_connection_properties[\"user\"]) \\\n",
    "    .option(\"password\", clickhouse_connection_properties[\"password\"]) \\\n",
    "    .option(\"driver\", clickhouse_connection_properties[\"driver\"]) \\\n",
    "    .option(\"createTableOptions\", \"ENGINE = MergeTree ORDER BY (product_category_name)\") \\\n",
    "    .mode(\"overwrite\") \\\n",
    "    .save()\n",
    "\n",
    "rating_reviews.write \\\n",
    "    .format(\"jdbc\") \\\n",
    "    .option(\"url\", clickhouse_jdbc_url) \\\n",
    "    .option(\"dbtable\", \"product_rating_reviews_report\") \\\n",
    "    .option(\"user\", clickhouse_connection_properties[\"user\"]) \\\n",
    "    .option(\"password\", clickhouse_connection_properties[\"password\"]) \\\n",
    "    .option(\"driver\", clickhouse_connection_properties[\"driver\"]) \\\n",
    "    .option(\"createTableOptions\", \"ENGINE = MergeTree ORDER BY (product_name)\") \\\n",
    "    .mode(\"overwrite\") \\\n",
    "    .save()"
   ]
  },
  {
   "cell_type": "markdown",
   "id": "a4523607",
   "metadata": {},
   "source": [
    "### Витрина продаж по клиентам"
   ]
  },
  {
   "cell_type": "markdown",
   "id": "d7bc2eb2",
   "metadata": {},
   "source": [
    "Топ-10 клиентов с наибольшей общей суммой покупок"
   ]
  },
  {
   "cell_type": "code",
   "execution_count": 30,
   "id": "b8246022",
   "metadata": {},
   "outputs": [
    {
     "name": "stdout",
     "output_type": "stream",
     "text": [
      "+-----------+-------------------+------------------+--------------------+--------------------+\n",
      "|customer_id|customer_first_name|customer_last_name|      customer_email|      total_purchase|\n",
      "+-----------+-------------------+------------------+--------------------+--------------------+\n",
      "|       9794|                Gus|         Hartshorn| bfeasby57@youku.com|499.8500000000000...|\n",
      "|        946|              Hayes|            McKain|sstappardbp@busin...|499.8000000000000...|\n",
      "|       5166|              Dawna|             Impey|    rivattspm@un.org|499.7600000000000...|\n",
      "|       7554|                Ava|             Lomas|dsorea0@geocities...|499.7600000000000...|\n",
      "|       1966|            Lavinia|         Horsburgh|previllh3@tinyurl...|499.7300000000000...|\n",
      "|       9356|               Dame|        Auchinleck|jthurnhamqe@sourc...|499.7100000000000...|\n",
      "|       4384|           Isahella|            Colley|bselewayi0@chron.com|499.6900000000000...|\n",
      "|       6096|             Sisely|          Bonevant|   wpulmano6@loc.gov|499.6200000000000...|\n",
      "|       1154|              Nicky|            Lattie|gcoupman2@bigcart...|499.6200000000000...|\n",
      "|       9594|               Eran|             Cotes|       svispof9@t.co|499.5900000000000...|\n",
      "+-----------+-------------------+------------------+--------------------+--------------------+\n",
      "\n"
     ]
    }
   ],
   "source": [
    "top_10_customers = sales_with_id.join(customers_with_id, sales_with_id.sale_customer_id == customers_with_id.customer_id) \\\n",
    "    .groupBy(\n",
    "        customers_with_id.customer_id,\n",
    "        customers_with_id.customer_first_name,\n",
    "        customers_with_id.customer_last_name,\n",
    "        customers_with_id.customer_email\n",
    "    ) \\\n",
    "    .agg(\n",
    "        F.sum(sales_with_id.sale_total_price).alias(\"total_purchase\")\n",
    "    ) \\\n",
    "    .orderBy(F.desc(\"total_purchase\")) \\\n",
    "    .limit(10)\n",
    "\n",
    "top_10_customers.show()"
   ]
  },
  {
   "cell_type": "markdown",
   "id": "0821d023",
   "metadata": {},
   "source": [
    "Распределение клиентов по странам"
   ]
  },
  {
   "cell_type": "code",
   "execution_count": 31,
   "id": "70dfb992",
   "metadata": {},
   "outputs": [
    {
     "name": "stdout",
     "output_type": "stream",
     "text": [
      "+--------------------+--------------+\n",
      "|        country_name|customer_count|\n",
      "+--------------------+--------------+\n",
      "|                Chad|             5|\n",
      "|            Paraguay|            18|\n",
      "|              Russia|           628|\n",
      "| U.S. Virgin Islands|             1|\n",
      "|               Yemen|            39|\n",
      "|             Senegal|             4|\n",
      "|              Sweden|           264|\n",
      "|Svalbard and Jan ...|             1|\n",
      "|              Guyana|             1|\n",
      "|         Philippines|           555|\n",
      "|             Eritrea|             3|\n",
      "|            Djibouti|             1|\n",
      "|            Malaysia|            40|\n",
      "|              Turkey|             1|\n",
      "|              Malawi|            12|\n",
      "|                Iraq|             8|\n",
      "|             Germany|            30|\n",
      "|Northern Mariana ...|             1|\n",
      "|             Comoros|            13|\n",
      "|         Afghanistan|            31|\n",
      "+--------------------+--------------+\n",
      "only showing top 20 rows\n",
      "\n"
     ]
    }
   ],
   "source": [
    "customers_by_country = customers_with_id.join(countries_with_id, customers_with_id.customer_country_id == countries_with_id.country_id) \\\n",
    "    .groupBy(countries_with_id.country_name) \\\n",
    "    .agg(\n",
    "        F.count(customers_with_id.customer_id).alias(\"customer_count\")\n",
    "    )\n",
    "\n",
    "customers_by_country.show()"
   ]
  },
  {
   "cell_type": "markdown",
   "id": "8c395ada",
   "metadata": {},
   "source": [
    "Средний чек для каждого клиента"
   ]
  },
  {
   "cell_type": "code",
   "execution_count": 32,
   "id": "db4e2ca8",
   "metadata": {},
   "outputs": [
    {
     "name": "stdout",
     "output_type": "stream",
     "text": [
      "+-----------+-------------------+------------------+--------------------+--------------------+\n",
      "|customer_id|customer_first_name|customer_last_name|      customer_email|           avg_check|\n",
      "+-----------+-------------------+------------------+--------------------+--------------------+\n",
      "|       4900|            Vincent|           Edgerly| ltiesr8@oaic.gov.au|3.820000000000000000|\n",
      "|       6336|              Allen|           Avesque|gcastellag8@issuu...|25.46800000000000...|\n",
      "|       7880|             Frazer|             Leuty|pprayjx@bizjourna...|23.92000000000000...|\n",
      "|       3997|              Abner|           Brandle|mreinbeckgx@howst...|193.6050000000000...|\n",
      "|       2659|            Ingunna|          Farlambe|rruslenj0@yolasit...|75.43000000000000...|\n",
      "|       2866|          Rosemaria|            Batrop| wrivallandma@w3.org|477.5200000000000...|\n",
      "|       1088|            Chester|          Harsnipe|oetheredgenh@tamu...|359.1700000000000...|\n",
      "|       1342|                Mae|           Halbord|kmaltsterll@econo...|52.86000000000000...|\n",
      "|        833|              Lesli|          Backshaw|cvollergj@angelfi...|60.47600000000000...|\n",
      "|       2142|              Netti|         Edgecumbe|dsargersongv@page...|100.6600000000000...|\n",
      "|       9427|          Bobinette|            O'Mara|  abiestykz@cnbc.com|27.07375000000000...|\n",
      "|       7340|              Donni|       Weatherburn|     mcappmo@unc.edu|30.10000000000000...|\n",
      "|       8389|              Jonah|             Acors|btilsond8@telegra...|25.87000000000000...|\n",
      "|       1591|              Blake|          Sherlock|srenahancw@nytime...|68.93750000000000...|\n",
      "|       3175|             Morgen|             Fores|sseagrave1t@cbslo...|37.81000000000000...|\n",
      "|       1238|          Guglielmo|           Bedding|  ofiveyih@chron.com|54.09333333333333...|\n",
      "|       7982|          Betteanne|         Dumbarton|bmobley2r@addthis...|78.12333333333333...|\n",
      "|       5156|            Austina|           Massard|  marmerqq@about.com|26.58600000000000...|\n",
      "|       8592|            Roobbie|            Allard|dantoshinbx@amazo...|12.63000000000000...|\n",
      "|       1959|             Serena|          Mulligan|cnevison9z@kickst...|120.1100000000000...|\n",
      "+-----------+-------------------+------------------+--------------------+--------------------+\n",
      "only showing top 20 rows\n",
      "\n"
     ]
    }
   ],
   "source": [
    "avg_check_by_customer = sales_with_id.groupBy(\"sale_customer_id\") \\\n",
    "    .agg(\n",
    "        (F.sum(sales_with_id.sale_total_price) / F.sum(sales_with_id.sale_quantity)).alias(\"avg_check\")\n",
    "    ) \\\n",
    "    .join(customers_with_id, sales_with_id.sale_customer_id == customers_with_id.customer_id) \\\n",
    "    .select(\n",
    "        customers_with_id.customer_id,\n",
    "        customers_with_id.customer_first_name,\n",
    "        customers_with_id.customer_last_name,\n",
    "        customers_with_id.customer_email,\n",
    "        \"avg_check\"\n",
    "    )\n",
    "\n",
    "avg_check_by_customer.show()"
   ]
  },
  {
   "cell_type": "code",
   "execution_count": 33,
   "id": "6fc96774",
   "metadata": {},
   "outputs": [],
   "source": [
    "top_10_customers.write \\\n",
    "    .format(\"jdbc\") \\\n",
    "    .option(\"url\", clickhouse_jdbc_url) \\\n",
    "    .option(\"dbtable\", \"top_10_customers_report\") \\\n",
    "    .option(\"user\", clickhouse_connection_properties[\"user\"]) \\\n",
    "    .option(\"password\", clickhouse_connection_properties[\"password\"]) \\\n",
    "    .option(\"driver\", clickhouse_connection_properties[\"driver\"]) \\\n",
    "    .option(\"createTableOptions\", \"ENGINE = MergeTree ORDER BY (customer_id)\") \\\n",
    "    .mode(\"overwrite\") \\\n",
    "    .save()\n",
    "\n",
    "customers_by_country.write \\\n",
    "    .format(\"jdbc\") \\\n",
    "    .option(\"url\", clickhouse_jdbc_url) \\\n",
    "    .option(\"dbtable\", \"customers_by_country_report\") \\\n",
    "    .option(\"user\", clickhouse_connection_properties[\"user\"]) \\\n",
    "    .option(\"password\", clickhouse_connection_properties[\"password\"]) \\\n",
    "    .option(\"driver\", clickhouse_connection_properties[\"driver\"]) \\\n",
    "    .option(\"createTableOptions\", \"ENGINE = MergeTree ORDER BY (country_name)\") \\\n",
    "    .mode(\"overwrite\") \\\n",
    "    .save()\n",
    "\n",
    "avg_check_by_customer.write \\\n",
    "    .format(\"jdbc\") \\\n",
    "    .option(\"url\", clickhouse_jdbc_url) \\\n",
    "    .option(\"dbtable\", \"avg_check_by_customer_report\") \\\n",
    "    .option(\"user\", clickhouse_connection_properties[\"user\"]) \\\n",
    "    .option(\"password\", clickhouse_connection_properties[\"password\"]) \\\n",
    "    .option(\"driver\", clickhouse_connection_properties[\"driver\"]) \\\n",
    "    .option(\"createTableOptions\", \"ENGINE = MergeTree ORDER BY (customer_id)\") \\\n",
    "    .mode(\"overwrite\") \\\n",
    "    .save()"
   ]
  },
  {
   "cell_type": "markdown",
   "id": "a6bf2284",
   "metadata": {},
   "source": [
    "### Витрина продаж по времени"
   ]
  },
  {
   "cell_type": "markdown",
   "id": "5dbf5171",
   "metadata": {},
   "source": [
    "Месячные и годовые тренды продаж и средний размер заказа по месяцам"
   ]
  },
  {
   "cell_type": "code",
   "execution_count": 34,
   "id": "f1fab86b",
   "metadata": {},
   "outputs": [],
   "source": [
    "sales_with_date = sales_with_id.join(dates_with_id, sales_with_id.sale_date_id == dates_with_id.date_id) \\\n",
    "    .withColumn(\"year\", F.year(\"date_value\")) \\\n",
    "    .withColumn(\"month\", F.month(\"date_value\"))"
   ]
  },
  {
   "cell_type": "code",
   "execution_count": 35,
   "id": "9611f2ee",
   "metadata": {},
   "outputs": [
    {
     "name": "stdout",
     "output_type": "stream",
     "text": [
      "+----+-----+--------------------+--------------+--------------------+\n",
      "|year|month|       total_revenue|total_quantity|      avg_order_size|\n",
      "+----+-----+--------------------+--------------+--------------------+\n",
      "|2021|    1|224158.5400000000...|          4856|46.16114909390444...|\n",
      "|2021|    2|192348.3100000000...|          4070|47.26002702702702...|\n",
      "|2021|    3|207282.2000000000...|          4561|45.44665643499232...|\n",
      "|2021|    4|206592.8200000000...|          4564|45.26573619631901...|\n",
      "|2021|    5|211764.8600000000...|          4451|47.57691754661873...|\n",
      "|2021|    6|215042.8000000000...|          4438|48.45488958990536...|\n",
      "|2021|    7|220496.5100000000...|          4750|46.42031789473684...|\n",
      "|2021|    8|221275.7800000000...|          4818|45.92689497716894...|\n",
      "|2021|    9|210623.4300000000...|          4507|46.73251164854670...|\n",
      "|2021|   10|228743.3200000000...|          4976|45.96931672025723...|\n",
      "|2021|   11|200154.6900000000...|          4297|46.58010006981615...|\n",
      "|2021|   12|191368.8600000000...|          4335|44.14506574394463...|\n",
      "+----+-----+--------------------+--------------+--------------------+\n",
      "\n"
     ]
    }
   ],
   "source": [
    "monthly_trends = sales_with_date.groupBy(\"year\", \"month\") \\\n",
    "    .agg(\n",
    "        F.sum(\"sale_total_price\").alias(\"total_revenue\"),\n",
    "        F.sum(\"sale_quantity\").alias(\"total_quantity\"),\n",
    "        (F.sum(\"sale_total_price\") / F.sum(\"sale_quantity\")).alias(\"avg_order_size\")\n",
    "    ) \\\n",
    "    .orderBy(\"year\", \"month\")\n",
    "\n",
    "monthly_trends.show()"
   ]
  },
  {
   "cell_type": "code",
   "execution_count": 36,
   "id": "5f151185",
   "metadata": {},
   "outputs": [
    {
     "name": "stdout",
     "output_type": "stream",
     "text": [
      "+----+--------------------+--------------+--------------------+\n",
      "|year|       total_revenue|total_quantity|      avg_order_size|\n",
      "+----+--------------------+--------------+--------------------+\n",
      "|2021|2529852.120000000...|         54623|46.31477802390934...|\n",
      "+----+--------------------+--------------+--------------------+\n",
      "\n"
     ]
    }
   ],
   "source": [
    "yearly_trends = sales_with_date.groupBy(\"year\") \\\n",
    "    .agg(\n",
    "        F.sum(\"sale_total_price\").alias(\"total_revenue\"),\n",
    "        F.sum(\"sale_quantity\").alias(\"total_quantity\"),\n",
    "        (F.sum(\"sale_total_price\") / F.sum(\"sale_quantity\")).alias(\"avg_order_size\")\n",
    "    ) \\\n",
    "    .orderBy(\"year\")\n",
    "\n",
    "yearly_trends.show()"
   ]
  },
  {
   "cell_type": "markdown",
   "id": "012f3bd7",
   "metadata": {},
   "source": [
    "Сравнение выручки за разные периоды"
   ]
  },
  {
   "cell_type": "code",
   "execution_count": 37,
   "id": "314b4069",
   "metadata": {},
   "outputs": [
    {
     "name": "stdout",
     "output_type": "stream",
     "text": [
      "+----+-----+--------------------+--------------+--------------------+--------------------+------------------+\n",
      "|year|month|       total_revenue|total_quantity|      avg_order_size|  prev_total_revenue|revenue_mom_growth|\n",
      "+----+-----+--------------------+--------------+--------------------+--------------------+------------------+\n",
      "|2021|    1|224158.5400000000...|          4856|46.16114909390444...|                NULL|              NULL|\n",
      "|2021|    2|192348.3100000000...|          4070|47.26002702702702...|224158.5400000000...|        -14.191000|\n",
      "|2021|    3|207282.2000000000...|          4561|45.44665643499232...|192348.3100000000...|          7.764000|\n",
      "|2021|    4|206592.8200000000...|          4564|45.26573619631901...|207282.2000000000...|         -0.332600|\n",
      "|2021|    5|211764.8600000000...|          4451|47.57691754661873...|206592.8200000000...|          2.503500|\n",
      "|2021|    6|215042.8000000000...|          4438|48.45488958990536...|211764.8600000000...|          1.547900|\n",
      "|2021|    7|220496.5100000000...|          4750|46.42031789473684...|215042.8000000000...|          2.536100|\n",
      "|2021|    8|221275.7800000000...|          4818|45.92689497716894...|220496.5100000000...|          0.353400|\n",
      "|2021|    9|210623.4300000000...|          4507|46.73251164854670...|221275.7800000000...|         -4.814100|\n",
      "|2021|   10|228743.3200000000...|          4976|45.96931672025723...|210623.4300000000...|          8.603000|\n",
      "|2021|   11|200154.6900000000...|          4297|46.58010006981615...|228743.3200000000...|        -12.498100|\n",
      "|2021|   12|191368.8600000000...|          4335|44.14506574394463...|200154.6900000000...|         -4.389500|\n",
      "+----+-----+--------------------+--------------+--------------------+--------------------+------------------+\n",
      "\n"
     ]
    }
   ],
   "source": [
    "from pyspark.sql import Window\n",
    "\n",
    "window_spec = Window.orderBy(\"year\", \"month\")\n",
    "monthly_trends_with_prev = monthly_trends.withColumn(\n",
    "    \"prev_total_revenue\", F.lag(\"total_revenue\").over(window_spec)\n",
    ").withColumn(\n",
    "    \"revenue_mom_growth\",\n",
    "    ((F.col(\"total_revenue\") - F.col(\"prev_total_revenue\")) / F.col(\"prev_total_revenue\")) * 100\n",
    ")\n",
    "\n",
    "revenue_comparison = monthly_trends_with_prev\n",
    "\n",
    "revenue_comparison.show()"
   ]
  },
  {
   "cell_type": "code",
   "execution_count": 38,
   "id": "a17a8935",
   "metadata": {},
   "outputs": [],
   "source": [
    "monthly_trends.write \\\n",
    "    .format(\"jdbc\") \\\n",
    "    .option(\"url\", clickhouse_jdbc_url) \\\n",
    "    .option(\"dbtable\", \"monthly_sales_trends_report\") \\\n",
    "    .option(\"user\", clickhouse_connection_properties[\"user\"]) \\\n",
    "    .option(\"password\", clickhouse_connection_properties[\"password\"]) \\\n",
    "    .option(\"driver\", clickhouse_connection_properties[\"driver\"]) \\\n",
    "    .option(\"createTableOptions\", \"ENGINE = MergeTree ORDER BY (year, month)\") \\\n",
    "    .mode(\"overwrite\") \\\n",
    "    .save()\n",
    "\n",
    "yearly_trends.write \\\n",
    "    .format(\"jdbc\") \\\n",
    "    .option(\"url\", clickhouse_jdbc_url) \\\n",
    "    .option(\"dbtable\", \"yearly_sales_trends_report\") \\\n",
    "    .option(\"user\", clickhouse_connection_properties[\"user\"]) \\\n",
    "    .option(\"password\", clickhouse_connection_properties[\"password\"]) \\\n",
    "    .option(\"driver\", clickhouse_connection_properties[\"driver\"]) \\\n",
    "    .option(\"createTableOptions\", \"ENGINE = MergeTree ORDER BY (year)\") \\\n",
    "    .mode(\"overwrite\") \\\n",
    "    .save()\n",
    "\n",
    "revenue_comparison.write \\\n",
    "    .format(\"jdbc\") \\\n",
    "    .option(\"url\", clickhouse_jdbc_url) \\\n",
    "    .option(\"dbtable\", \"sales_revenue_comparison_report\") \\\n",
    "    .option(\"user\", clickhouse_connection_properties[\"user\"]) \\\n",
    "    .option(\"password\", clickhouse_connection_properties[\"password\"]) \\\n",
    "    .option(\"driver\", clickhouse_connection_properties[\"driver\"]) \\\n",
    "    .option(\"createTableOptions\", \"ENGINE = MergeTree ORDER BY (year, month)\") \\\n",
    "    .mode(\"overwrite\") \\\n",
    "    .save()"
   ]
  },
  {
   "cell_type": "markdown",
   "id": "ac06a4d7",
   "metadata": {},
   "source": [
    "### Витрина продаж по магазинам"
   ]
  },
  {
   "cell_type": "markdown",
   "id": "e388b566",
   "metadata": {},
   "source": [
    "Топ-5 магазинов с наибольшей выручкой"
   ]
  },
  {
   "cell_type": "code",
   "execution_count": 39,
   "id": "7c324166",
   "metadata": {},
   "outputs": [
    {
     "name": "stdout",
     "output_type": "stream",
     "text": [
      "+--------+-----------+--------------+-------------+----------------+--------------------+\n",
      "|store_id| store_name|store_location|store_city_id|store_country_id|       total_revenue|\n",
      "+--------+-----------+--------------+-------------+----------------+--------------------+\n",
      "|    9786|       DabZ|    13th Floor|         6067|             191|499.8500000000000...|\n",
      "|     363|Thoughtblab|      Apt 1200|          424|             176|499.8000000000000...|\n",
      "|    9433|     Camido|      Apt 1720|         2001|               7|499.7600000000000...|\n",
      "|    3569|   Edgeblab|    17th Floor|         5951|             123|499.7600000000000...|\n",
      "|    6106|    Centizu|      Suite 86|         1497|             176|499.7300000000000...|\n",
      "+--------+-----------+--------------+-------------+----------------+--------------------+\n",
      "\n"
     ]
    }
   ],
   "source": [
    "top_5_stores = sales_with_id.join(stores_with_id, sales_with_id.sale_store_id == stores_with_id.store_id) \\\n",
    "    .groupBy(\n",
    "        stores_with_id.store_id,\n",
    "        stores_with_id.store_name,\n",
    "        stores_with_id.store_location,\n",
    "        stores_with_id.store_city_id,\n",
    "        stores_with_id.store_country_id\n",
    "    ) \\\n",
    "    .agg(\n",
    "        F.sum(sales_with_id.sale_total_price).alias(\"total_revenue\")\n",
    "    ) \\\n",
    "    .orderBy(F.desc(\"total_revenue\")) \\\n",
    "    .limit(5)\n",
    "\n",
    "top_5_stores.show()"
   ]
  },
  {
   "cell_type": "markdown",
   "id": "53ccd249",
   "metadata": {},
   "source": [
    "Распределение продаж по городам и странам"
   ]
  },
  {
   "cell_type": "code",
   "execution_count": 40,
   "id": "ddd67299",
   "metadata": {},
   "outputs": [
    {
     "name": "stdout",
     "output_type": "stream",
     "text": [
      "+-------------------+-------------+--------------------+-----------+\n",
      "|          city_name| country_name|       total_revenue|sales_count|\n",
      "+-------------------+-------------+--------------------+-----------+\n",
      "|Costa de Rios Frios|        Japan|180.6900000000000...|          1|\n",
      "|            Lintaca|      Nigeria|193.6500000000000...|          1|\n",
      "|           Canga’an|    Indonesia|437.8100000000000...|          1|\n",
      "|            Avignon|        China|400.9100000000000...|          2|\n",
      "|            Wangren|    Indonesia|36.72000000000000...|          1|\n",
      "|             Gerong|        China|143.9700000000000...|          1|\n",
      "|            Donghui|    Indonesia|470.0000000000000...|          1|\n",
      "|       Kohtla-Järve|        China|251.8600000000000...|          1|\n",
      "|             Linshi|United States|101.0400000000000...|          1|\n",
      "|            Taiping|     Portugal|419.6100000000000...|          1|\n",
      "|             Chanhe|    Argentina|284.5200000000000...|          1|\n",
      "|        Lubukgadang|    Indonesia|311.0500000000000...|          1|\n",
      "|            Juntang|        China|448.9000000000000...|          1|\n",
      "|            Blagnac|      Tunisia|353.5800000000000...|          1|\n",
      "|        Dingjiaqiao|       France|461.8200000000000...|          1|\n",
      "|           Nanggela|     Thailand|36.63000000000000...|          1|\n",
      "|  San Juan de Colón|     Portugal|264.8100000000000...|          1|\n",
      "|        Fengniancun|    Indonesia|93.94000000000000...|          1|\n",
      "|               Caen|       Canada|399.8800000000000...|          1|\n",
      "|             Hairag|     Slovenia|180.4400000000000...|          1|\n",
      "+-------------------+-------------+--------------------+-----------+\n",
      "only showing top 20 rows\n",
      "\n"
     ]
    }
   ],
   "source": [
    "sales_by_city_country = sales_with_id.join(stores_with_id, sales_with_id.sale_store_id == stores_with_id.store_id) \\\n",
    "    .join(cities_with_id, stores_with_id.store_city_id == cities_with_id.city_id) \\\n",
    "    .join(countries_with_id, stores_with_id.store_country_id == countries_with_id.country_id) \\\n",
    "    .groupBy(\n",
    "        cities_with_id.city_name,\n",
    "        countries_with_id.country_name\n",
    "    ) \\\n",
    "    .agg(\n",
    "        F.sum(sales_with_id.sale_total_price).alias(\"total_revenue\"),\n",
    "        F.count(sales_with_id.sale_id).alias(\"sales_count\")\n",
    "    )\n",
    "\n",
    "sales_by_city_country.show()"
   ]
  },
  {
   "cell_type": "markdown",
   "id": "33ed443b",
   "metadata": {},
   "source": [
    "Средний чек для каждого магазина"
   ]
  },
  {
   "cell_type": "code",
   "execution_count": 41,
   "id": "58d6b465",
   "metadata": {},
   "outputs": [
    {
     "name": "stdout",
     "output_type": "stream",
     "text": [
      "+--------+------------+--------------+--------------------+\n",
      "|store_id|  store_name|store_location|           avg_check|\n",
      "+--------+------------+--------------+--------------------+\n",
      "|     148|        Kare|  PO Box 99919|35.59000000000000...|\n",
      "|     463|        Vitz|     5th Floor|74.66750000000000...|\n",
      "|     471|      Avaveo|      Apt 1731|5.485714285714285714|\n",
      "|     496|     Demivee|     7th Floor|48.97700000000000...|\n",
      "|     833|       Avamm|      Apt 1338|57.52333333333333...|\n",
      "|    1088|     Tagfeed|     1st Floor|23.82000000000000...|\n",
      "|    1238|     Zoonder|     Room 1316|170.8400000000000...|\n",
      "|    1342|      JumpXS|      Suite 88|23.96833333333333...|\n",
      "|    1580|  Bubbletube|      Suite 64|41.10666666666666...|\n",
      "|    1591|        Geba|  PO Box 52599|34.00250000000000...|\n",
      "|    1645|Chatterpoint|      Suite 31|65.13333333333333...|\n",
      "|    1829|       Yadel|  PO Box 44655|107.9600000000000...|\n",
      "|    1959|    Edgewire|  PO Box 81210|242.5800000000000...|\n",
      "|    2122|       Eadel|  PO Box 72093|49.70666666666666...|\n",
      "|    2142|  Shuffletag|       Apt 199|76.31800000000000...|\n",
      "|    2366|      Meeveo|  PO Box 86713|89.43250000000000...|\n",
      "|    2659|   Photolist|      Suite 99|2.147142857142857143|\n",
      "|    2866|     Dabfeed|     2nd Floor|59.56857142857142...|\n",
      "|    3175|   Buzzshare|      Suite 91|28.65000000000000...|\n",
      "|    3749|Thoughtstorm|      Room 795|209.6800000000000...|\n",
      "+--------+------------+--------------+--------------------+\n",
      "only showing top 20 rows\n",
      "\n"
     ]
    }
   ],
   "source": [
    "avg_check_by_store = sales_with_id.join(stores_with_id, sales_with_id.sale_store_id == stores_with_id.store_id) \\\n",
    "    .groupBy(\n",
    "        stores_with_id.store_id,\n",
    "        stores_with_id.store_name,\n",
    "        stores_with_id.store_location\n",
    "    ) \\\n",
    "    .agg(\n",
    "        (F.sum(sales_with_id.sale_total_price) / F.sum(sales_with_id.sale_quantity)).alias(\"avg_check\")\n",
    "    )\n",
    "\n",
    "avg_check_by_store.show()"
   ]
  },
  {
   "cell_type": "code",
   "execution_count": 42,
   "id": "59892f48",
   "metadata": {},
   "outputs": [],
   "source": [
    "top_5_stores.write \\\n",
    "    .format(\"jdbc\") \\\n",
    "    .option(\"url\", clickhouse_jdbc_url) \\\n",
    "    .option(\"dbtable\", \"top_5_stores_report\") \\\n",
    "    .option(\"user\", clickhouse_connection_properties[\"user\"]) \\\n",
    "    .option(\"password\", clickhouse_connection_properties[\"password\"]) \\\n",
    "    .option(\"driver\", clickhouse_connection_properties[\"driver\"]) \\\n",
    "    .option(\"createTableOptions\", \"ENGINE = MergeTree ORDER BY (store_id)\") \\\n",
    "    .mode(\"overwrite\") \\\n",
    "    .save()\n",
    "\n",
    "sales_by_city_country.write \\\n",
    "    .format(\"jdbc\") \\\n",
    "    .option(\"url\", clickhouse_jdbc_url) \\\n",
    "    .option(\"dbtable\", \"sales_by_city_country_report\") \\\n",
    "    .option(\"user\", clickhouse_connection_properties[\"user\"]) \\\n",
    "    .option(\"password\", clickhouse_connection_properties[\"password\"]) \\\n",
    "    .option(\"driver\", clickhouse_connection_properties[\"driver\"]) \\\n",
    "    .option(\"createTableOptions\", \"ENGINE = MergeTree ORDER BY (country_name, city_name)\") \\\n",
    "    .mode(\"overwrite\") \\\n",
    "    .save()\n",
    "\n",
    "avg_check_by_store.write \\\n",
    "    .format(\"jdbc\") \\\n",
    "    .option(\"url\", clickhouse_jdbc_url) \\\n",
    "    .option(\"dbtable\", \"avg_check_by_store_report\") \\\n",
    "    .option(\"user\", clickhouse_connection_properties[\"user\"]) \\\n",
    "    .option(\"password\", clickhouse_connection_properties[\"password\"]) \\\n",
    "    .option(\"driver\", clickhouse_connection_properties[\"driver\"]) \\\n",
    "    .option(\"createTableOptions\", \"ENGINE = MergeTree ORDER BY (store_id)\") \\\n",
    "    .mode(\"overwrite\") \\\n",
    "    .save()"
   ]
  },
  {
   "cell_type": "markdown",
   "id": "9e7e41b6",
   "metadata": {},
   "source": [
    "### Витрина продаж по поставщикам"
   ]
  },
  {
   "cell_type": "markdown",
   "id": "6189a82c",
   "metadata": {},
   "source": [
    "Топ-5 поставщиков с наибольшей выручкой"
   ]
  },
  {
   "cell_type": "code",
   "execution_count": 43,
   "id": "b95a6309",
   "metadata": {},
   "outputs": [
    {
     "name": "stdout",
     "output_type": "stream",
     "text": [
      "+-----------+-------------+----------------+--------------------+--------------------+\n",
      "|supplier_id|supplier_name|supplier_contact|      supplier_email|       total_revenue|\n",
      "+-----------+-------------+----------------+--------------------+--------------------+\n",
      "|       1017|   Brainverse| Barbabas Feasby|    bfeasby57@ed.gov|499.8500000000000...|\n",
      "|        634|        Jamia|    Sax Stappard|sstappardbp@webno...|499.8000000000000...|\n",
      "|       9553|      Demimbu|   Reggis Ivatts|   rivattspm@nps.gov|499.7600000000000...|\n",
      "|       1225|        Eabox|       Dell Sore|     dsorea0@soup.io|499.7600000000000...|\n",
      "|       8428|   Browsezoom|  Padgett Revill|previllh3@pcworld...|499.7300000000000...|\n",
      "+-----------+-------------+----------------+--------------------+--------------------+\n",
      "\n"
     ]
    }
   ],
   "source": [
    "top_5_suppliers = sales_with_id.join(products_with_id, sales_with_id.sale_product_id == products_with_id.product_id) \\\n",
    "    .join(suppliers_with_id, products_with_id.product_supplier_id == suppliers_with_id.supplier_id) \\\n",
    "    .groupBy(\n",
    "        suppliers_with_id.supplier_id,\n",
    "        suppliers_with_id.supplier_name,\n",
    "        suppliers_with_id.supplier_contact,\n",
    "        suppliers_with_id.supplier_email\n",
    "    ) \\\n",
    "    .agg(\n",
    "        F.sum(sales_with_id.sale_total_price).alias(\"total_revenue\")\n",
    "    ) \\\n",
    "    .orderBy(F.desc(\"total_revenue\")) \\\n",
    "    .limit(5)\n",
    "\n",
    "top_5_suppliers.show()"
   ]
  },
  {
   "cell_type": "markdown",
   "id": "cd4fdc37",
   "metadata": {},
   "source": [
    "Средняя цена товаров от каждого поставщика"
   ]
  },
  {
   "cell_type": "code",
   "execution_count": 44,
   "id": "2e9763ec",
   "metadata": {},
   "outputs": [
    {
     "name": "stdout",
     "output_type": "stream",
     "text": [
      "+-----------+-------------+-------------------+--------------------+--------------------+\n",
      "|supplier_id|supplier_name|   supplier_contact|      supplier_email|   avg_product_price|\n",
      "+-----------+-------------+-------------------+--------------------+--------------------+\n",
      "|        148|       Meevee|    Doralin Doudney| ddoudney7l@ning.com|93.18000000000000...|\n",
      "|        463|   Bubbletube|       Dayle Emmett|demmettrp@tripadv...|98.69000000000000...|\n",
      "|        471|        Quatz|       Rip Hulstrom|rhulstrombt@githu...|80.73000000000000...|\n",
      "|        496|        Vidoo|   Torrence Trevett|   ttrevetth7@pen.io|12.31000000000000...|\n",
      "|        833|       Voonyx|        Brade Waugh|   bwaughms@xrea.com|37.21000000000000...|\n",
      "|       1088|       Divape|    Elfrida Merioth|emerioth27@storif...|77.81000000000000...|\n",
      "|       1238|        Yodoo|     Tabby Slograve|tslogravemh@sprin...|28.34000000000000...|\n",
      "|       1342| Jabbersphere|       Buffy Astell|   bastelldz@loc.gov|6.100000000000000...|\n",
      "|       1580| Chatterpoint|  Rafaela Valintine|rvalintine57@grav...|15.60000000000000...|\n",
      "|       1591|    Jaxnation|       Arney Tuffin|atuffinjk@spiegel.de|41.56000000000000...|\n",
      "|       1645|     Livepath|  Lelah Antonijevic|lantonijevickt@cn...|72.56000000000000...|\n",
      "|       1829|     Skiptube|       Ewart Ellins|eellins81@shutter...|44.22000000000000...|\n",
      "|       1959|     Dabshots|       Audry Yearne|ayearnegt@barnesa...|4.170000000000000...|\n",
      "|       2122|   Realbridge|    Shandra Cashman|scashman8i@infose...|93.22000000000000...|\n",
      "|       2142|   Browsezoom|     Nolan Burberry|nburberrynq@taoba...|5.310000000000000...|\n",
      "|       2366|      Meembee|       Randy Tetlow|rtetlownq@jalbum.net|7.810000000000000...|\n",
      "|       2659|        Eamia|       Penny Baldry|pbaldryi7@bandcam...|10.01000000000000...|\n",
      "|       2866|    Rhynoodle|     Trefor Vittori|tvittori8r@adobe.com|75.01000000000000...|\n",
      "|       3175|       Oyondu|     Jeffie Gonning| jgonning16@youtu.be|43.76000000000000...|\n",
      "|       3749|     Livetube|Catherine Hanssmann|chanssmann9s@blog...|9.510000000000000...|\n",
      "+-----------+-------------+-------------------+--------------------+--------------------+\n",
      "only showing top 20 rows\n",
      "\n"
     ]
    }
   ],
   "source": [
    "avg_price_by_supplier = products_with_id.join(suppliers_with_id, products_with_id.product_supplier_id == suppliers_with_id.supplier_id) \\\n",
    "    .groupBy(\n",
    "        suppliers_with_id.supplier_id,\n",
    "        suppliers_with_id.supplier_name,\n",
    "        suppliers_with_id.supplier_contact,\n",
    "        suppliers_with_id.supplier_email\n",
    "    ) \\\n",
    "    .agg(\n",
    "        F.avg(products_with_id.product_price).alias(\"avg_product_price\")\n",
    "    )\n",
    "\n",
    "avg_price_by_supplier.show()"
   ]
  },
  {
   "cell_type": "markdown",
   "id": "7ef28402",
   "metadata": {},
   "source": [
    "Распределение продаж по странам поставщиков"
   ]
  },
  {
   "cell_type": "code",
   "execution_count": 45,
   "id": "7c5fed08",
   "metadata": {},
   "outputs": [
    {
     "name": "stdout",
     "output_type": "stream",
     "text": [
      "+--------------------+--------------------+-----------+\n",
      "|        country_name|       total_revenue|sales_count|\n",
      "+--------------------+--------------------+-----------+\n",
      "|                Chad|2051.030000000000...|          7|\n",
      "|              Russia|149206.7500000000...|        582|\n",
      "|            Paraguay|2957.860000000000...|         13|\n",
      "|               Yemen|11414.63000000000...|         41|\n",
      "|             Senegal|3162.410000000000...|         11|\n",
      "|              Sweden|52074.94000000000...|        217|\n",
      "|             Tokelau|425.9900000000000...|          1|\n",
      "|French Southern T...|287.3000000000000...|          1|\n",
      "|            Kiribati|409.8300000000000...|          1|\n",
      "|              Guyana|1325.270000000000...|          4|\n",
      "|         Philippines|136135.1000000000...|        536|\n",
      "|             Eritrea|352.9200000000000...|          2|\n",
      "|               Tonga|340.8000000000000...|          3|\n",
      "|            Djibouti|397.6700000000000...|          1|\n",
      "|            Malaysia|13223.61000000000...|         54|\n",
      "|                Fiji|450.8400000000000...|          2|\n",
      "|              Turkey|847.1900000000000...|          2|\n",
      "|              Malawi|1763.540000000000...|          8|\n",
      "|                Iraq|2935.790000000000...|         10|\n",
      "|             Germany|9078.970000000000...|         34|\n",
      "+--------------------+--------------------+-----------+\n",
      "only showing top 20 rows\n",
      "\n"
     ]
    }
   ],
   "source": [
    "sales_by_supplier_country = sales_with_id.join(products_with_id, sales_with_id.sale_product_id == products_with_id.product_id) \\\n",
    "    .join(suppliers_with_id, products_with_id.product_supplier_id == suppliers_with_id.supplier_id) \\\n",
    "    .join(countries_with_id, suppliers_with_id.supplier_country_id == countries_with_id.country_id) \\\n",
    "    .groupBy(\n",
    "        countries_with_id.country_name\n",
    "    ) \\\n",
    "    .agg(\n",
    "        F.sum(sales_with_id.sale_total_price).alias(\"total_revenue\"),\n",
    "        F.count(sales_with_id.sale_id).alias(\"sales_count\")\n",
    "    )\n",
    "\n",
    "sales_by_supplier_country.show()"
   ]
  },
  {
   "cell_type": "code",
   "execution_count": 46,
   "id": "5eff914e",
   "metadata": {},
   "outputs": [],
   "source": [
    "top_5_suppliers.write \\\n",
    "    .format(\"jdbc\") \\\n",
    "    .option(\"url\", clickhouse_jdbc_url) \\\n",
    "    .option(\"dbtable\", \"top_5_suppliers_report\") \\\n",
    "    .option(\"user\", clickhouse_connection_properties[\"user\"]) \\\n",
    "    .option(\"password\", clickhouse_connection_properties[\"password\"]) \\\n",
    "    .option(\"driver\", clickhouse_connection_properties[\"driver\"]) \\\n",
    "    .option(\"createTableOptions\", \"ENGINE = MergeTree ORDER BY (supplier_id)\") \\\n",
    "    .mode(\"overwrite\") \\\n",
    "    .save()\n",
    "\n",
    "avg_price_by_supplier.write \\\n",
    "    .format(\"jdbc\") \\\n",
    "    .option(\"url\", clickhouse_jdbc_url) \\\n",
    "    .option(\"dbtable\", \"avg_price_by_supplier_report\") \\\n",
    "    .option(\"user\", clickhouse_connection_properties[\"user\"]) \\\n",
    "    .option(\"password\", clickhouse_connection_properties[\"password\"]) \\\n",
    "    .option(\"driver\", clickhouse_connection_properties[\"driver\"]) \\\n",
    "    .option(\"createTableOptions\", \"ENGINE = MergeTree ORDER BY (supplier_id)\") \\\n",
    "    .mode(\"overwrite\") \\\n",
    "    .save()\n",
    "\n",
    "sales_by_supplier_country.write \\\n",
    "    .format(\"jdbc\") \\\n",
    "    .option(\"url\", clickhouse_jdbc_url) \\\n",
    "    .option(\"dbtable\", \"sales_by_supplier_country_report\") \\\n",
    "    .option(\"user\", clickhouse_connection_properties[\"user\"]) \\\n",
    "    .option(\"password\", clickhouse_connection_properties[\"password\"]) \\\n",
    "    .option(\"driver\", clickhouse_connection_properties[\"driver\"]) \\\n",
    "    .option(\"createTableOptions\", \"ENGINE = MergeTree ORDER BY (country_name)\") \\\n",
    "    .mode(\"overwrite\") \\\n",
    "    .save()"
   ]
  },
  {
   "cell_type": "markdown",
   "id": "b80616cb",
   "metadata": {},
   "source": [
    "### Витрина качества продукции"
   ]
  },
  {
   "cell_type": "markdown",
   "id": "96634ba1",
   "metadata": {},
   "source": [
    "Продукты с наивысшим и наименьшим рейтингом"
   ]
  },
  {
   "cell_type": "code",
   "execution_count": 47,
   "id": "193ee699",
   "metadata": {},
   "outputs": [
    {
     "name": "stdout",
     "output_type": "stream",
     "text": [
      "+------------+--------------------+-------------+\n",
      "|product_name|          avg_rating|total_reviews|\n",
      "+------------+--------------------+-------------+\n",
      "|    Dog Food|3.018298891883797...|      1653413|\n",
      "|     Cat Toy|3.006860078573587...|      1676222|\n",
      "|   Bird Cage|3.000149164677804...|      1682260|\n",
      "+------------+--------------------+-------------+\n",
      "\n"
     ]
    }
   ],
   "source": [
    "top_rated_products = rating_reviews.orderBy(F.desc(\"avg_rating\")).limit(10)\n",
    "top_rated_products.show()"
   ]
  },
  {
   "cell_type": "code",
   "execution_count": 48,
   "id": "318b2d83",
   "metadata": {},
   "outputs": [
    {
     "name": "stdout",
     "output_type": "stream",
     "text": [
      "+------------+--------------------+-------------+\n",
      "|product_name|          avg_rating|total_reviews|\n",
      "+------------+--------------------+-------------+\n",
      "|   Bird Cage|3.000149164677804...|      1682260|\n",
      "|     Cat Toy|3.006860078573587...|      1676222|\n",
      "|    Dog Food|3.018298891883797...|      1653413|\n",
      "+------------+--------------------+-------------+\n",
      "\n"
     ]
    }
   ],
   "source": [
    "lowest_rated_products = rating_reviews.filter(F.col(\"total_reviews\") > 0).orderBy(F.asc(\"avg_rating\")).limit(10)\n",
    "lowest_rated_products.show()"
   ]
  },
  {
   "cell_type": "markdown",
   "id": "9649fa62",
   "metadata": {},
   "source": [
    "Корреляция между рейтингом и объемом продаж"
   ]
  },
  {
   "cell_type": "code",
   "execution_count": 49,
   "id": "d889cbc9",
   "metadata": {},
   "outputs": [
    {
     "name": "stdout",
     "output_type": "stream",
     "text": [
      "+------------+--------------------+-------------+-------------------+--------------------+\n",
      "|product_name|          avg_rating|total_reviews|total_quantity_sold|       total_revenue|\n",
      "+------------+--------------------+-------------+-------------------+--------------------+\n",
      "|   Bird Cage|3.000149164677804...|      1682260|              18205|847478.0500000000...|\n",
      "|    Dog Food|3.018298891883797...|      1653413|              18298|848567.1900000000...|\n",
      "|     Cat Toy|3.006860078573587...|      1676222|              18120|833806.8800000000...|\n",
      "+------------+--------------------+-------------+-------------------+--------------------+\n",
      "\n",
      "Корреляция между средним рейтингом и объемом продаж: 0.6433138852387386\n"
     ]
    }
   ],
   "source": [
    "product_sales = sales_with_id.join(products_with_id, sales_with_id.sale_product_id == products_with_id.product_id) \\\n",
    "    .join(product_names_with_id, products_with_id.product_name_id == product_names_with_id.product_name_id) \\\n",
    "    .groupBy(product_names_with_id.product_name) \\\n",
    "    .agg(\n",
    "        F.sum(sales_with_id.sale_quantity).alias(\"total_quantity_sold\"),\n",
    "        F.sum(sales_with_id.sale_total_price).alias(\"total_revenue\")\n",
    "    )\n",
    "\n",
    "rating_sales = rating_reviews.join(product_sales, on=\"product_name\", how=\"inner\")\n",
    "\n",
    "rating_sales.show()\n",
    "\n",
    "correlation = rating_sales.stat.corr(\"avg_rating\", \"total_quantity_sold\")\n",
    "print(\"Корреляция между средним рейтингом и объемом продаж:\", correlation)"
   ]
  },
  {
   "cell_type": "markdown",
   "id": "ffae97e8",
   "metadata": {},
   "source": [
    "Продукты с наибольшим количеством отзывов"
   ]
  },
  {
   "cell_type": "code",
   "execution_count": 50,
   "id": "82830b11",
   "metadata": {},
   "outputs": [
    {
     "name": "stdout",
     "output_type": "stream",
     "text": [
      "+------------+--------------------+-------------+\n",
      "|product_name|          avg_rating|total_reviews|\n",
      "+------------+--------------------+-------------+\n",
      "|   Bird Cage|3.000149164677804...|      1682260|\n",
      "|     Cat Toy|3.006860078573587...|      1676222|\n",
      "|    Dog Food|3.018298891883797...|      1653413|\n",
      "+------------+--------------------+-------------+\n",
      "\n"
     ]
    }
   ],
   "source": [
    "most_reviewed_products = rating_reviews.orderBy(F.desc(\"total_reviews\")).limit(10)\n",
    "most_reviewed_products.show()"
   ]
  },
  {
   "cell_type": "code",
   "execution_count": 51,
   "id": "4bc6583d",
   "metadata": {},
   "outputs": [],
   "source": [
    "top_rated_products.write \\\n",
    "    .format(\"jdbc\") \\\n",
    "    .option(\"url\", clickhouse_jdbc_url) \\\n",
    "    .option(\"dbtable\", \"top_rated_products_report\") \\\n",
    "    .option(\"user\", clickhouse_connection_properties[\"user\"]) \\\n",
    "    .option(\"password\", clickhouse_connection_properties[\"password\"]) \\\n",
    "    .option(\"driver\", clickhouse_connection_properties[\"driver\"]) \\\n",
    "    .option(\"createTableOptions\", \"ENGINE = MergeTree ORDER BY (avg_rating, product_name)\") \\\n",
    "    .mode(\"overwrite\") \\\n",
    "    .save()\n",
    "\n",
    "lowest_rated_products.write \\\n",
    "    .format(\"jdbc\") \\\n",
    "    .option(\"url\", clickhouse_jdbc_url) \\\n",
    "    .option(\"dbtable\", \"lowest_rated_products_report\") \\\n",
    "    .option(\"user\", clickhouse_connection_properties[\"user\"]) \\\n",
    "    .option(\"password\", clickhouse_connection_properties[\"password\"]) \\\n",
    "    .option(\"driver\", clickhouse_connection_properties[\"driver\"]) \\\n",
    "    .option(\"createTableOptions\", \"ENGINE = MergeTree ORDER BY (avg_rating, product_name)\") \\\n",
    "    .mode(\"overwrite\") \\\n",
    "    .save()\n",
    "\n",
    "rating_sales.write \\\n",
    "    .format(\"jdbc\") \\\n",
    "    .option(\"url\", clickhouse_jdbc_url) \\\n",
    "    .option(\"dbtable\", \"rating_sales_correlation_report\") \\\n",
    "    .option(\"user\", clickhouse_connection_properties[\"user\"]) \\\n",
    "    .option(\"password\", clickhouse_connection_properties[\"password\"]) \\\n",
    "    .option(\"driver\", clickhouse_connection_properties[\"driver\"]) \\\n",
    "    .option(\"createTableOptions\", \"ENGINE = MergeTree ORDER BY (product_name)\") \\\n",
    "    .mode(\"overwrite\") \\\n",
    "    .save()\n",
    "\n",
    "most_reviewed_products.write \\\n",
    "    .format(\"jdbc\") \\\n",
    "    .option(\"url\", clickhouse_jdbc_url) \\\n",
    "    .option(\"dbtable\", \"most_reviewed_products_report\") \\\n",
    "    .option(\"user\", clickhouse_connection_properties[\"user\"]) \\\n",
    "    .option(\"password\", clickhouse_connection_properties[\"password\"]) \\\n",
    "    .option(\"driver\", clickhouse_connection_properties[\"driver\"]) \\\n",
    "    .option(\"createTableOptions\", \"ENGINE = MergeTree ORDER BY (total_reviews, product_name)\") \\\n",
    "    .mode(\"overwrite\") \\\n",
    "    .save()"
   ]
  }
 ],
 "metadata": {
  "kernelspec": {
   "display_name": "Python 3 (ipykernel)",
   "language": "python",
   "name": "python3"
  },
  "language_info": {
   "codemirror_mode": {
    "name": "ipython",
    "version": 3
   },
   "file_extension": ".py",
   "mimetype": "text/x-python",
   "name": "python",
   "nbconvert_exporter": "python",
   "pygments_lexer": "ipython3",
   "version": "3.11.6"
  }
 },
 "nbformat": 4,
 "nbformat_minor": 5
}
